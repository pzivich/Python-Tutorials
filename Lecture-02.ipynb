{
 "cells": [
  {
   "cell_type": "markdown",
   "metadata": {},
   "source": [
    "# Lecture 2: Functions and Classes\n",
    "In this lecture, we will go through functions and classes. Throughout we will additionally use and review loops and logic statements.\n",
    "\n",
    "## 2.1 Functions\n",
    "Functions are general procedures that can be called and ran. These are useful for executing certain functions with different numbers. Additionally, they are the backbone of many Python features and packages. \n",
    "\n",
    "### 2.1.1 No arguments\n",
    "To start, we will look at a simple function. The following function only prints the number 5 when it is called. "
   ]
  },
  {
   "cell_type": "code",
   "execution_count": 1,
   "metadata": {},
   "outputs": [],
   "source": [
    "def print_five():\n",
    "    \"\"\"This function prints the number 5 to the console\n",
    "    \n",
    "    This block of text is used to describe the function and is \n",
    "    printed when the help() command is used. Always provide \n",
    "    documentation for your functions\n",
    "    \"\"\"\n",
    "    print(5)\n"
   ]
  },
  {
   "cell_type": "markdown",
   "metadata": {},
   "source": [
    "To create a new function, we use the `def` (define) keyword. After that follows the name of our function with `()` and ends with `:`. The next block of text is the function's documentation. This is where you can put the information on what the function does. You should always write what the function does! As you see, functions follow a similar syntax structure to loops and logic statements with regards to indents. \n",
    "\n",
    "When you run that code, you will notice nothing happens. That is because we have only defined the function. We have not called it / used it yet. When writing your own code, it is generally preferred to start your script with defining all the functions. Below are some calls to our function"
   ]
  },
  {
   "cell_type": "code",
   "execution_count": 2,
   "metadata": {},
   "outputs": [
    {
     "name": "stdout",
     "output_type": "stream",
     "text": [
      "5\n"
     ]
    }
   ],
   "source": [
    "print_five()"
   ]
  },
  {
   "cell_type": "code",
   "execution_count": 3,
   "metadata": {},
   "outputs": [
    {
     "name": "stdout",
     "output_type": "stream",
     "text": [
      "5\n",
      "5\n"
     ]
    }
   ],
   "source": [
    "print_five()\n",
    "print_five()"
   ]
  },
  {
   "cell_type": "code",
   "execution_count": 4,
   "metadata": {},
   "outputs": [
    {
     "name": "stdout",
     "output_type": "stream",
     "text": [
      "Help on function print_five in module __main__:\n",
      "\n",
      "print_five()\n",
      "    This function prints the number 5 to the console\n",
      "    \n",
      "    This block of text is used to describe the function and is \n",
      "    printed when the help() command is used. Always provide \n",
      "    documentation for your functions\n",
      "\n"
     ]
    }
   ],
   "source": [
    "help(print_five)"
   ]
  },
  {
   "cell_type": "markdown",
   "metadata": {},
   "source": [
    "Above are some examples of calls to the function and what `help()` looks like.\n",
    "\n",
    "### 2.1.2 Required arguments\n",
    "In the previous example, our function did not take any inputs. However, we can also add required arguments to our function. Below is an example of the code structure"
   ]
  },
  {
   "cell_type": "code",
   "execution_count": 5,
   "metadata": {},
   "outputs": [],
   "source": [
    "def solve_problem(a, b):\n",
    "    \"\"\"This function takes two inputs and applies the following transformation\n",
    "    \n",
    "    (a**2) + (b**2) - a*b\n",
    "    \n",
    "    Parameters\n",
    "    ----------\n",
    "    a: int, float\n",
    "        First number\n",
    "    b: int, float\n",
    "        Second number\n",
    "    \n",
    "    Returns\n",
    "    -------\n",
    "    (a**2) + (b**2) - a*b\n",
    "    \"\"\"\n",
    "    answer = (a**2) + (b**2) - a*b\n",
    "    return answer"
   ]
  },
  {
   "cell_type": "markdown",
   "metadata": {},
   "source": [
    "You will notice that the above function now has something inside the parathenses. These are the arguments. There are two arguments (`a` and `b`), which are separated by `,`. The names are used within the function. You will also notice we use a keyword `return`. `return` 'returns' the object when the function is called. Let's look at a quick example"
   ]
  },
  {
   "cell_type": "code",
   "execution_count": 6,
   "metadata": {},
   "outputs": [
    {
     "data": {
      "text/plain": [
       "3"
      ]
     },
     "execution_count": 6,
     "metadata": {},
     "output_type": "execute_result"
    }
   ],
   "source": [
    "solve_problem(1, 2)"
   ]
  },
  {
   "cell_type": "code",
   "execution_count": 7,
   "metadata": {},
   "outputs": [
    {
     "name": "stdout",
     "output_type": "stream",
     "text": [
      "For a=3 and b=5\n",
      "an answer of 19 is returned\n"
     ]
    }
   ],
   "source": [
    "a_value = 3\n",
    "b_value = 5\n",
    "\n",
    "x = solve_problem(a=a_value, b=b_value)\n",
    "\n",
    "print(\"For a=\"+str(a_value)+\" and b=\"+str(b_value))\n",
    "print(\"an answer of \"+str(x)+\" is returned\")"
   ]
  },
  {
   "cell_type": "markdown",
   "metadata": {},
   "source": [
    "Below are two examples. "
   ]
  },
  {
   "cell_type": "code",
   "execution_count": 8,
   "metadata": {},
   "outputs": [
    {
     "ename": "TypeError",
     "evalue": "solve_problem() missing 1 required positional argument: 'b'",
     "output_type": "error",
     "traceback": [
      "\u001b[1;31m---------------------------------------------------------------------------\u001b[0m",
      "\u001b[1;31mTypeError\u001b[0m                                 Traceback (most recent call last)",
      "\u001b[1;32m<ipython-input-8-d47bdc10b336>\u001b[0m in \u001b[0;36m<module>\u001b[1;34m()\u001b[0m\n\u001b[1;32m----> 1\u001b[1;33m \u001b[0msolve_problem\u001b[0m\u001b[1;33m(\u001b[0m\u001b[1;36m3\u001b[0m\u001b[1;33m)\u001b[0m\u001b[1;33m\u001b[0m\u001b[0m\n\u001b[0m",
      "\u001b[1;31mTypeError\u001b[0m: solve_problem() missing 1 required positional argument: 'b'"
     ]
    }
   ],
   "source": [
    "solve_problem(3)"
   ]
  },
  {
   "cell_type": "markdown",
   "metadata": {},
   "source": [
    "You will notice if we don't include both arguments, we get a `TypeError`. This is because both arguments in our function are required.\n",
    "\n",
    "### 2.1.3 Optional arguments\n",
    "Instead of required parameters, we can instead include optional ones. Below is an example with an optional argument"
   ]
  },
  {
   "cell_type": "code",
   "execution_count": 12,
   "metadata": {},
   "outputs": [],
   "source": [
    "def write_a_word(word='default'):\n",
    "    \"\"\"Function that prints the input word. The default word is 'default'\n",
    "    \n",
    "    Parameters\n",
    "    ----------\n",
    "    word: str, optional\n",
    "        Word to print\n",
    "    \n",
    "    Returns\n",
    "    -------\n",
    "    None\n",
    "    \"\"\"\n",
    "    print(\"The magic word is '\"+word+\"'.\")"
   ]
  },
  {
   "cell_type": "markdown",
   "metadata": {},
   "source": [
    "To make an argument a default, we set it equal to something within the `def` statement. This way we can call the function without an argument or we can specify the argument. Below is an example"
   ]
  },
  {
   "cell_type": "code",
   "execution_count": 13,
   "metadata": {},
   "outputs": [
    {
     "name": "stdout",
     "output_type": "stream",
     "text": [
      "The magic word is 'default'.\n"
     ]
    }
   ],
   "source": [
    "write_a_word()"
   ]
  },
  {
   "cell_type": "code",
   "execution_count": 14,
   "metadata": {},
   "outputs": [
    {
     "name": "stdout",
     "output_type": "stream",
     "text": [
      "The magic word is 'epidemiology'.\n"
     ]
    }
   ],
   "source": [
    "write_a_word(word='epidemiology')"
   ]
  },
  {
   "cell_type": "code",
   "execution_count": 15,
   "metadata": {},
   "outputs": [
    {
     "name": "stdout",
     "output_type": "stream",
     "text": [
      "The magic word is 'broken'.\n"
     ]
    }
   ],
   "source": [
    "write_a_word('broken')"
   ]
  },
  {
   "cell_type": "markdown",
   "metadata": {},
   "source": [
    "For optional arguments, I don't recommend the last option. It is better practice to explicitly set the parameter to a value (as shown in the second example).\n",
    "\n",
    "### 2.1.4 Required and optional arguments\n",
    "Finally, we can combine both required and optional arguments. Below is a modification of the solving equation from 2.1.2 that instead takes square roots."
   ]
  },
  {
   "cell_type": "code",
   "execution_count": 26,
   "metadata": {},
   "outputs": [],
   "source": [
    "def solve_problem2(a, b=25):\n",
    "    \"\"\"This function takes two inputs and applies the following transformation\n",
    "    \n",
    "    (a**0.5) + (b**0.5) - a*b\n",
    "    \n",
    "    Parameters\n",
    "    ----------\n",
    "    a: int, float\n",
    "        First number\n",
    "    b: int, float\n",
    "        Second number\n",
    "    \n",
    "    Returns\n",
    "    -------\n",
    "    (a**0.5) + (b**0.5) - a*b\n",
    "    \"\"\"\n",
    "    # Checking for negative numbers\n",
    "    if a < 0 or b < 0:  \n",
    "        raise ValueError(\"Square roots are not real numbers. Both `a` and `b` \"\n",
    "                         \"must be greater than zero\")\n",
    "    \n",
    "    answer = (a**0.5) + (b**0.5) - a*b\n",
    "    return answer"
   ]
  },
  {
   "cell_type": "code",
   "execution_count": 23,
   "metadata": {},
   "outputs": [
    {
     "data": {
      "text/plain": [
       "-43.58578643762691"
      ]
     },
     "execution_count": 23,
     "metadata": {},
     "output_type": "execute_result"
    }
   ],
   "source": [
    "solve_problem2(a=2)"
   ]
  },
  {
   "cell_type": "code",
   "execution_count": 24,
   "metadata": {},
   "outputs": [
    {
     "data": {
      "text/plain": [
       "-2.8537356300580274"
      ]
     },
     "execution_count": 24,
     "metadata": {},
     "output_type": "execute_result"
    }
   ],
   "source": [
    "solve_problem2(a=2, b=3)"
   ]
  },
  {
   "cell_type": "code",
   "execution_count": 27,
   "metadata": {},
   "outputs": [
    {
     "ename": "ValueError",
     "evalue": "Square roots are not real numbers. Both `a` and `b` must be greater than zero",
     "output_type": "error",
     "traceback": [
      "\u001b[1;31m---------------------------------------------------------------------------\u001b[0m",
      "\u001b[1;31mValueError\u001b[0m                                Traceback (most recent call last)",
      "\u001b[1;32m<ipython-input-27-779eb2fd5840>\u001b[0m in \u001b[0;36m<module>\u001b[1;34m()\u001b[0m\n\u001b[1;32m----> 1\u001b[1;33m \u001b[0msolve_problem2\u001b[0m\u001b[1;33m(\u001b[0m\u001b[0ma\u001b[0m\u001b[1;33m=\u001b[0m\u001b[1;33m-\u001b[0m\u001b[1;36m5\u001b[0m\u001b[1;33m)\u001b[0m\u001b[1;33m\u001b[0m\u001b[0m\n\u001b[0m",
      "\u001b[1;32m<ipython-input-26-2f1619e70f9d>\u001b[0m in \u001b[0;36msolve_problem2\u001b[1;34m(a, b)\u001b[0m\n\u001b[0;32m     17\u001b[0m     \u001b[1;31m# Checking for negative numbers\u001b[0m\u001b[1;33m\u001b[0m\u001b[1;33m\u001b[0m\u001b[0m\n\u001b[0;32m     18\u001b[0m     \u001b[1;32mif\u001b[0m \u001b[0ma\u001b[0m \u001b[1;33m<\u001b[0m \u001b[1;36m0\u001b[0m \u001b[1;32mor\u001b[0m \u001b[0mb\u001b[0m \u001b[1;33m<\u001b[0m \u001b[1;36m0\u001b[0m\u001b[1;33m:\u001b[0m\u001b[1;33m\u001b[0m\u001b[0m\n\u001b[1;32m---> 19\u001b[1;33m         raise ValueError(\"Square roots are not real numbers. Both `a` and `b` \"\n\u001b[0m\u001b[0;32m     20\u001b[0m                          \"must be greater than zero\")\n\u001b[0;32m     21\u001b[0m \u001b[1;33m\u001b[0m\u001b[0m\n",
      "\u001b[1;31mValueError\u001b[0m: Square roots are not real numbers. Both `a` and `b` must be greater than zero"
     ]
    }
   ],
   "source": [
    "solve_problem2(a=-5)"
   ]
  },
  {
   "cell_type": "markdown",
   "metadata": {},
   "source": [
    "In the last example, we see a `ValueError`. That is because we wrote in a quick logic statement to check whether `a` or `b` were negative. Checking the inputs is an important step and can help to prevent errors. I write them for myself all the time and it is good practice, especially if you share your code with others.\n",
    "\n",
    "The addition of logic statements leads to the next section\n",
    "\n",
    "### 2.1.5 Complex functions\n",
    "This isn't an actual convention, but I am using it as a point to review loops and logic. We now will craft functions that include logic and loops. Below is an example function that counts to a set number. There are two options for negative values; raise an error, or take the absolute value and count to that number"
   ]
  },
  {
   "cell_type": "code",
   "execution_count": 38,
   "metadata": {},
   "outputs": [],
   "source": [
    "def number_counter(n, floats='error', negative_numbers='error', allow_large_n=False):\n",
    "    \"\"\"Function to count to a specified number. There are two options on \n",
    "    how to handle negative numbers; either an error is raised or the absolute\n",
    "    value of the number is counted to.\n",
    "    \n",
    "    Parameters\n",
    "    ----------\n",
    "    n: int\n",
    "        Number to count to. Should be an integer. If not an integer, see floats \n",
    "        argument\n",
    "    floats: str, optional\n",
    "        What to do if a float is input. Default is to raise a ValueError. Options\n",
    "        include;\n",
    "            'error'   : raise a ValueError\n",
    "            'convert' : convert float to integer\n",
    "    negative_numbers: str, optional\n",
    "        What to do if a negative number is input. Default is to raise a ValueError.\n",
    "        Other options include;\n",
    "            'error'   : raise a ValueError\n",
    "            'convert' : convert float to integer            \n",
    "    allow_large_n: bool, optional\n",
    "        What to do if n is larger than 100. Default is False, which raises a ValueError.\n",
    "        If you would like to count to a number higher than 100, set equal to True\n",
    "    \n",
    "    Returns\n",
    "    -------\n",
    "    None\n",
    "    \"\"\"\n",
    "    # Check that `n` is not a float\n",
    "    if type(n) is float:\n",
    "        if floats == 'error':\n",
    "            raise ValueError(\"`n` must be an integer\")\n",
    "        elif floats == 'convert':\n",
    "            n = int(n)\n",
    "        else:\n",
    "            raise ValueError(\"'\"+str(floats)+\"' is not a valid argument for `floats`\")\n",
    "    \n",
    "    # Check that `n` is not a negative number\n",
    "    if n < 0:\n",
    "        if negative_numbers == 'error':\n",
    "            raise ValueError(\"`n` must be non-negative\")\n",
    "        elif negative_numbers == 'convert':\n",
    "            n *= -1\n",
    "        else:\n",
    "            raise ValueError(\"'\"+str(negative_numbers)+\"' is not a valid argument for `negative_numbers`\")\n",
    "    \n",
    "    # Checking for large numbers\n",
    "    if not allow_large_n and n > 100:\n",
    "        raise ValueError(\"`n` is \"+str(n)+\", which is larger than 100. Are you sure you want \"\n",
    "                         \"to count that high? Set `all_large_n=True` if so\")\n",
    "    \n",
    "    # for loop to count to expected number\n",
    "    print(\"Counting to \"+str(n))\n",
    "    for i in range(0, n):\n",
    "        print(i + 1)\n",
    "    \n",
    "    print('DONE!!')"
   ]
  },
  {
   "cell_type": "code",
   "execution_count": 33,
   "metadata": {},
   "outputs": [
    {
     "name": "stdout",
     "output_type": "stream",
     "text": [
      "Counting to 5\n",
      "1\n",
      "2\n",
      "3\n",
      "4\n",
      "5\n",
      "DONE!!\n"
     ]
    }
   ],
   "source": [
    "number_counter(5)"
   ]
  },
  {
   "cell_type": "code",
   "execution_count": 42,
   "metadata": {},
   "outputs": [
    {
     "ename": "ValueError",
     "evalue": "`n` must be non-negative",
     "output_type": "error",
     "traceback": [
      "\u001b[1;31m---------------------------------------------------------------------------\u001b[0m",
      "\u001b[1;31mValueError\u001b[0m                                Traceback (most recent call last)",
      "\u001b[1;32m<ipython-input-42-3d40a71c0b9b>\u001b[0m in \u001b[0;36m<module>\u001b[1;34m()\u001b[0m\n\u001b[1;32m----> 1\u001b[1;33m \u001b[0mnumber_counter\u001b[0m\u001b[1;33m(\u001b[0m\u001b[0mn\u001b[0m\u001b[1;33m=\u001b[0m\u001b[1;33m-\u001b[0m\u001b[1;36m1\u001b[0m\u001b[1;33m)\u001b[0m\u001b[1;33m\u001b[0m\u001b[0m\n\u001b[0m",
      "\u001b[1;32m<ipython-input-38-be32f6c957b4>\u001b[0m in \u001b[0;36mnumber_counter\u001b[1;34m(n, floats, negative_numbers, allow_large_n)\u001b[0m\n\u001b[0;32m     39\u001b[0m     \u001b[1;32mif\u001b[0m \u001b[0mn\u001b[0m \u001b[1;33m<\u001b[0m \u001b[1;36m0\u001b[0m\u001b[1;33m:\u001b[0m\u001b[1;33m\u001b[0m\u001b[0m\n\u001b[0;32m     40\u001b[0m         \u001b[1;32mif\u001b[0m \u001b[0mnegative_numbers\u001b[0m \u001b[1;33m==\u001b[0m \u001b[1;34m'error'\u001b[0m\u001b[1;33m:\u001b[0m\u001b[1;33m\u001b[0m\u001b[0m\n\u001b[1;32m---> 41\u001b[1;33m             \u001b[1;32mraise\u001b[0m \u001b[0mValueError\u001b[0m\u001b[1;33m(\u001b[0m\u001b[1;34m\"`n` must be non-negative\"\u001b[0m\u001b[1;33m)\u001b[0m\u001b[1;33m\u001b[0m\u001b[0m\n\u001b[0m\u001b[0;32m     42\u001b[0m         \u001b[1;32melif\u001b[0m \u001b[0mnegative_numbers\u001b[0m \u001b[1;33m==\u001b[0m \u001b[1;34m'convert'\u001b[0m\u001b[1;33m:\u001b[0m\u001b[1;33m\u001b[0m\u001b[0m\n\u001b[0;32m     43\u001b[0m             \u001b[0mn\u001b[0m \u001b[1;33m*=\u001b[0m \u001b[1;33m-\u001b[0m\u001b[1;36m1\u001b[0m\u001b[1;33m\u001b[0m\u001b[0m\n",
      "\u001b[1;31mValueError\u001b[0m: `n` must be non-negative"
     ]
    }
   ],
   "source": [
    "number_counter(n=-1)"
   ]
  },
  {
   "cell_type": "code",
   "execution_count": 40,
   "metadata": {},
   "outputs": [
    {
     "name": "stdout",
     "output_type": "stream",
     "text": [
      "Counting to 3\n",
      "1\n",
      "2\n",
      "3\n",
      "DONE!!\n"
     ]
    }
   ],
   "source": [
    "number_counter(n=-3, negative_numbers='convert')"
   ]
  },
  {
   "cell_type": "code",
   "execution_count": 41,
   "metadata": {},
   "outputs": [
    {
     "name": "stdout",
     "output_type": "stream",
     "text": [
      "Counting to 6\n",
      "1\n",
      "2\n",
      "3\n",
      "4\n",
      "5\n",
      "6\n",
      "DONE!!\n"
     ]
    }
   ],
   "source": [
    "number_counter(n=6.0, floats='convert')"
   ]
  },
  {
   "cell_type": "code",
   "execution_count": 39,
   "metadata": {},
   "outputs": [
    {
     "ename": "ValueError",
     "evalue": "`n` is 10000, which is larger than 100. Are you sure you want to count that high? Set `all_large_n=True` if so",
     "output_type": "error",
     "traceback": [
      "\u001b[1;31m---------------------------------------------------------------------------\u001b[0m",
      "\u001b[1;31mValueError\u001b[0m                                Traceback (most recent call last)",
      "\u001b[1;32m<ipython-input-39-3bd084198044>\u001b[0m in \u001b[0;36m<module>\u001b[1;34m()\u001b[0m\n\u001b[1;32m----> 1\u001b[1;33m \u001b[0mnumber_counter\u001b[0m\u001b[1;33m(\u001b[0m\u001b[0mn\u001b[0m\u001b[1;33m=\u001b[0m\u001b[1;36m10000\u001b[0m\u001b[1;33m)\u001b[0m\u001b[1;33m\u001b[0m\u001b[0m\n\u001b[0m",
      "\u001b[1;32m<ipython-input-38-be32f6c957b4>\u001b[0m in \u001b[0;36mnumber_counter\u001b[1;34m(n, floats, negative_numbers, allow_large_n)\u001b[0m\n\u001b[0;32m     47\u001b[0m     \u001b[1;31m# Checking for large numbers\u001b[0m\u001b[1;33m\u001b[0m\u001b[1;33m\u001b[0m\u001b[0m\n\u001b[0;32m     48\u001b[0m     \u001b[1;32mif\u001b[0m \u001b[1;32mnot\u001b[0m \u001b[0mallow_large_n\u001b[0m \u001b[1;32mand\u001b[0m \u001b[0mn\u001b[0m \u001b[1;33m>\u001b[0m \u001b[1;36m100\u001b[0m\u001b[1;33m:\u001b[0m\u001b[1;33m\u001b[0m\u001b[0m\n\u001b[1;32m---> 49\u001b[1;33m         raise ValueError(\"`n` is \"+str(n)+\", which is larger than 100. Are you sure you want \"\n\u001b[0m\u001b[0;32m     50\u001b[0m                          \"to count that high? Set `all_large_n=True` if so\")\n\u001b[0;32m     51\u001b[0m \u001b[1;33m\u001b[0m\u001b[0m\n",
      "\u001b[1;31mValueError\u001b[0m: `n` is 10000, which is larger than 100. Are you sure you want to count that high? Set `all_large_n=True` if so"
     ]
    }
   ],
   "source": [
    "number_counter(n=10000)"
   ]
  },
  {
   "cell_type": "markdown",
   "metadata": {},
   "source": [
    "That concludes the example of complex functions. This is where coding becomes fun and you can start to all sorts of cool/crazy things. \n",
    "\n",
    "### 2.1.6 Nested functions\n",
    "Now we will introduce the concept of nested functions. Nested functions are functions within functions. These are commonly used if you want to write a function but not allow global access to it, i.e. if you want the inner function to be available to the overall function. Below is an example of a simple nested function"
   ]
  },
  {
   "cell_type": "code",
   "execution_count": 43,
   "metadata": {},
   "outputs": [],
   "source": [
    "def nested_function(value):\n",
    "    \"\"\"Transforms the value via\n",
    "    \n",
    "    (value**2 + 1)**(1/3)\n",
    "    \n",
    "    If the value is divisible by 2, the function also applies the same \n",
    "    transformation to \n",
    "    \n",
    "    value/2\n",
    "    \n",
    "    Parameters\n",
    "    ----------\n",
    "    value: int\n",
    "        Value to apply the transformation to\n",
    "    \n",
    "    Returns\n",
    "    -------\n",
    "    None\n",
    "    \"\"\"\n",
    "    \n",
    "    def inner_function(a):\n",
    "        \"\"\"Takes the cube root of the square of a value\n",
    "        \"\"\"\n",
    "        b = a**2 + 1\n",
    "        c = b**(1/3)\n",
    "        return c\n",
    "    \n",
    "    x = inner_function(value)\n",
    "    print(\"Transformation of \"+str(value)+\":\", x)\n",
    "    \n",
    "    if x % 2 == 0:\n",
    "        print(str(value)+\" is divisible by 2\")\n",
    "        y = inner_function(value/2)\n",
    "        print(\"Transformation of \"+str(value/2)+\":\", y)"
   ]
  },
  {
   "cell_type": "code",
   "execution_count": 44,
   "metadata": {},
   "outputs": [
    {
     "name": "stdout",
     "output_type": "stream",
     "text": [
      "Transformation of 5: 2.9624960684073702\n"
     ]
    }
   ],
   "source": [
    "nested_function(5)"
   ]
  },
  {
   "cell_type": "code",
   "execution_count": 46,
   "metadata": {},
   "outputs": [
    {
     "name": "stdout",
     "output_type": "stream",
     "text": [
      "Transformation of 10: 4.657009507803835\n"
     ]
    }
   ],
   "source": [
    "nested_function(10)"
   ]
  },
  {
   "cell_type": "markdown",
   "metadata": {},
   "source": [
    "You are also able to create multiple inner functions. This process is best for functions that are only used within one function and you don't want them cluttering up the user space. They are also useful if you want to prevent a user from accessing a specific function.\n",
    "\n",
    "### 2.1.7 Global parameters\n",
    "To conclude, we haven't addressed what happens if a function refers to a value that isn't include in the function. Consider that our function uses the parameter `ghost`. Python uses the following process; it looks for `ghost` within the function, then it looks for `ghost` anywhere in the script. If `ghost` can't be found, then it raises an error.\n",
    "\n",
    "However, we can skip the first look within the function by using the `global` statement. Below is an example of the global statement"
   ]
  },
  {
   "cell_type": "code",
   "execution_count": 47,
   "metadata": {},
   "outputs": [],
   "source": [
    "def ghost_function():\n",
    "    global ghost\n",
    "    print(ghost)"
   ]
  },
  {
   "cell_type": "code",
   "execution_count": 48,
   "metadata": {},
   "outputs": [
    {
     "ename": "NameError",
     "evalue": "name 'ghost' is not defined",
     "output_type": "error",
     "traceback": [
      "\u001b[1;31m---------------------------------------------------------------------------\u001b[0m",
      "\u001b[1;31mNameError\u001b[0m                                 Traceback (most recent call last)",
      "\u001b[1;32m<ipython-input-48-fb1b2102a13e>\u001b[0m in \u001b[0;36m<module>\u001b[1;34m()\u001b[0m\n\u001b[1;32m----> 1\u001b[1;33m \u001b[0mghost_function\u001b[0m\u001b[1;33m(\u001b[0m\u001b[1;33m)\u001b[0m\u001b[1;33m\u001b[0m\u001b[0m\n\u001b[0m",
      "\u001b[1;32m<ipython-input-47-532eacd01f21>\u001b[0m in \u001b[0;36mghost_function\u001b[1;34m()\u001b[0m\n\u001b[0;32m      1\u001b[0m \u001b[1;32mdef\u001b[0m \u001b[0mghost_function\u001b[0m\u001b[1;33m(\u001b[0m\u001b[1;33m)\u001b[0m\u001b[1;33m:\u001b[0m\u001b[1;33m\u001b[0m\u001b[0m\n\u001b[0;32m      2\u001b[0m     \u001b[1;32mglobal\u001b[0m \u001b[0mghost\u001b[0m\u001b[1;33m\u001b[0m\u001b[0m\n\u001b[1;32m----> 3\u001b[1;33m     \u001b[0mprint\u001b[0m\u001b[1;33m(\u001b[0m\u001b[0mghost\u001b[0m\u001b[1;33m)\u001b[0m\u001b[1;33m\u001b[0m\u001b[0m\n\u001b[0m",
      "\u001b[1;31mNameError\u001b[0m: name 'ghost' is not defined"
     ]
    }
   ],
   "source": [
    "ghost_function()"
   ]
  },
  {
   "cell_type": "code",
   "execution_count": 49,
   "metadata": {},
   "outputs": [
    {
     "name": "stdout",
     "output_type": "stream",
     "text": [
      "I aM a SpOoKy GhOsT\n"
     ]
    }
   ],
   "source": [
    "ghost = 'I aM a SpOoKy GhOsT'\n",
    "ghost_function()"
   ]
  },
  {
   "cell_type": "markdown",
   "metadata": {},
   "source": [
    "In general, I would recommend avoiding using the global statement. It is better practice to use the arguments in a function. However, I wanted to introduce the concept. I use it sometimes in my personal code when the arguments start becoming bloated. However, I still should avoid it.\n",
    "\n",
    "# 2.2 Class statements\n",
    "A higher-level structure than functions are classes. We have previously run into these objects and they are useful features. I don't think R has an equivalent. Classes allow functions to flow natural from some larger object without having to redo calculations. It took me awhile to understand functions but they are invaluable for coding.\n",
    "\n",
    "Python's documentation describes them as a way to bundle data and functions together. There are three objects to keep in mind with classes; the class object, functions within a class, and attributes within a class. The class object is a large container for the functions and data. The functions within a class are functions that can be called only through the function, and attributes are bits of data contained within the class\n",
    "\n",
    "Below is an example of creating a class object. "
   ]
  },
  {
   "cell_type": "code",
   "execution_count": 66,
   "metadata": {},
   "outputs": [],
   "source": [
    "class PetNames:\n",
    "    \"\"\"Class object that contains the names of pets\n",
    "    \n",
    "    Parameters\n",
    "    ----------\n",
    "    \n",
    "    \"\"\"\n",
    "    # __init__ statement is used to take in parameters and default calculations\n",
    "    def __init__(self, name, dog=True):\n",
    "        self.name = name  # anything labelled self. is an attribute\n",
    "\n",
    "        if dog:  # similar to functions, we can use loops and logic\n",
    "            self.pet_type = 'canine'\n",
    "        else:\n",
    "            self.pet_type = 'non-canine'\n",
    "        \n",
    "        self.tricks = []\n",
    "                    \n",
    "    # creating a function\n",
    "    def add_tricks(self, trick):\n",
    "        \"\"\"Function to add a list of tricks known by the pet\n",
    "        \n",
    "        Parameters\n",
    "        ----------\n",
    "        trick: string\n",
    "            Trick to add to list of known tricks\n",
    "        \"\"\"\n",
    "        self.tricks.append(trick)\n",
    "    \n",
    "    # function to describe the pet\n",
    "    def describe(self):\n",
    "        \"\"\"Function to describe the pet. Gives their name, whether they are \n",
    "        a canine, and what tricks they know\n",
    "        \"\"\"\n",
    "        print(\"Name:\", self.name)\n",
    "        print(\"Type:\", self.pet_type)\n",
    "        print(\"Tricks:\", self.tricks)"
   ]
  },
  {
   "cell_type": "code",
   "execution_count": 67,
   "metadata": {},
   "outputs": [],
   "source": [
    "# Creating class object for a dog\n",
    "dog = PetNames(name='Fido')\n",
    "dog.add_tricks(\"roll over\")\n",
    "dog.add_tricks('sit')\n",
    "dog.add_tricks('play dead')\n",
    "\n",
    "cat = PetNames(name='Kevin', dog=False)"
   ]
  },
  {
   "cell_type": "code",
   "execution_count": 68,
   "metadata": {},
   "outputs": [
    {
     "name": "stdout",
     "output_type": "stream",
     "text": [
      "Name: Fido\n",
      "Type: canine\n",
      "Tricks: ['roll over', 'sit', 'play dead']\n"
     ]
    }
   ],
   "source": [
    "dog.describe()"
   ]
  },
  {
   "cell_type": "code",
   "execution_count": 69,
   "metadata": {},
   "outputs": [
    {
     "name": "stdout",
     "output_type": "stream",
     "text": [
      "Name: Kevin\n",
      "Type: non-canine\n",
      "Tricks: []\n"
     ]
    }
   ],
   "source": [
    "cat.describe()"
   ]
  },
  {
   "cell_type": "code",
   "execution_count": 70,
   "metadata": {},
   "outputs": [
    {
     "data": {
      "text/plain": [
       "'Kevin'"
      ]
     },
     "execution_count": 70,
     "metadata": {},
     "output_type": "execute_result"
    }
   ],
   "source": [
    "cat.name"
   ]
  },
  {
   "cell_type": "markdown",
   "metadata": {},
   "source": [
    "Let's break down the above example into pieces. ..."
   ]
  }
 ],
 "metadata": {
  "kernelspec": {
   "display_name": "Python 3",
   "language": "python",
   "name": "python3"
  },
  "language_info": {
   "codemirror_mode": {
    "name": "ipython",
    "version": 3
   },
   "file_extension": ".py",
   "mimetype": "text/x-python",
   "name": "python",
   "nbconvert_exporter": "python",
   "pygments_lexer": "ipython3",
   "version": "3.6.3"
  }
 },
 "nbformat": 4,
 "nbformat_minor": 2
}
