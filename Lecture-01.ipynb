{
 "cells": [
  {
   "cell_type": "markdown",
   "metadata": {},
   "source": [
    "# Lecture 1: Loops, Logic, and Errors\n",
    "In this lecture we will go through loops, logic statments, and how to read error messages\n",
    "\n",
    "## 1.1 Loops\n",
    "Loops are a general procedure to repeat a process some pre-specified number of times. There are two types of loops I will highlight; `for` loops and `while` loops. \n",
    "\n",
    "The key to loops is the spacing convention. In Python, everything under the indent (4 space indent) will be run in each iteration of a loop. This syntax will make more sense with an example.\n",
    "\n",
    "### 1.1.1 `for` loops\n",
    "To begin, we will start with `for` loops. `for` loops are useful for going through a known group of objects or up to a specific number of times. As a motivating example, let's say we want to write code that counts up to five. While we could write out 5 `print()` commands, it is easier to use a loop. Below is an example"
   ]
  },
  {
   "cell_type": "code",
   "execution_count": 2,
   "metadata": {},
   "outputs": [
    {
     "name": "stdout",
     "output_type": "stream",
     "text": [
      "Let's count to 5\n",
      "1\n",
      "2\n",
      "3\n",
      "4\n",
      "5\n",
      "Done!\n"
     ]
    }
   ],
   "source": [
    "print(\"Let's count to 5\") \n",
    "\n",
    "for i in [1, 2, 3, 4, 5]:\n",
    "    print(i)\n",
    "\n",
    "\n",
    "print(\"Done!\")"
   ]
  },
  {
   "cell_type": "markdown",
   "metadata": {},
   "source": [
    "For the `for` loop, we start with the keyword `for` then we provide a variable name for each items iteration (I generally use `i` but you can name it whatever you like). Then `in` is our next keyword indicating our object to loop through. The end of the `for` loop uses `:`. For lines that are part of the loop, they are indented 4 spaces underneath. \n",
    "\n",
    "So, for the first loop, `i` is set to `1`, the loop executes the `print(i)` statments, then it starts over and proceeds to the next item in the loop.\n",
    "\n",
    "Our previous loop can be improved. Instead of writing out our list, we can use the `range()` function which generates a list between two numbers. Below is an example of the `range()` function"
   ]
  },
  {
   "cell_type": "code",
   "execution_count": 4,
   "metadata": {},
   "outputs": [
    {
     "name": "stdout",
     "output_type": "stream",
     "text": [
      "Let's count to 5\n",
      "1\n",
      "2\n",
      "3\n",
      "4\n",
      "5\n",
      "Done!\n"
     ]
    }
   ],
   "source": [
    "number_to_count_to = 5\n",
    "print(\"Let's count to \"+str(number_to_count_to)) \n",
    "\n",
    "for i in range(1, number_to_count_to+1):\n",
    "    print(i)\n",
    "\n",
    "\n",
    "print(\"Done!\")"
   ]
  },
  {
   "cell_type": "markdown",
   "metadata": {},
   "source": [
    "The `range()` function is nice because it opens up more complicated possibilities. For example, we can instead count by units of 10. Below is another example of this "
   ]
  },
  {
   "cell_type": "code",
   "execution_count": 7,
   "metadata": {},
   "outputs": [
    {
     "name": "stdout",
     "output_type": "stream",
     "text": [
      "Let's count to 100\n",
      "10\n",
      "20\n",
      "30\n",
      "40\n",
      "50\n",
      "60\n",
      "70\n",
      "80\n",
      "90\n",
      "100\n",
      "Done!\n"
     ]
    }
   ],
   "source": [
    "number_to_count_to = 100\n",
    "print(\"Let's count to \"+str(number_to_count_to)) \n",
    "\n",
    "for i in range(10, number_to_count_to+1, 10):\n",
    "    print(i)\n",
    "\n",
    "\n",
    "print(\"Done!\")"
   ]
  },
  {
   "cell_type": "markdown",
   "metadata": {},
   "source": [
    "Loops are not limited to 1 line either. We can put multiple lines within each loop. The key is the indents. Below is an example of a loop with multiple lines of code to execute in each loop"
   ]
  },
  {
   "cell_type": "code",
   "execution_count": 8,
   "metadata": {},
   "outputs": [
    {
     "name": "stdout",
     "output_type": "stream",
     "text": [
      "Current number: 1\n",
      "Divided by 2: 0.5\n",
      "Multiplied by 2: 2\n",
      "Other math: 4.898979485566356\n",
      "END\n",
      "Current number: 2\n",
      "Divided by 2: 1.0\n",
      "Multiplied by 2: 4\n",
      "Other math: 5.196152422706632\n",
      "END\n",
      "Current number: 3\n",
      "Divided by 2: 1.5\n",
      "Multiplied by 2: 6\n",
      "Other math: 5.477225575051661\n",
      "END\n",
      "Current number: 4\n",
      "Divided by 2: 2.0\n",
      "Multiplied by 2: 8\n",
      "Other math: 5.744562646538029\n",
      "END\n"
     ]
    }
   ],
   "source": [
    "for i in range(1, 5):\n",
    "    print(\"Current number:\", i)\n",
    "    x = i / 2\n",
    "    print(\"Divided by 2:\", x)\n",
    "    y = i * 2\n",
    "    print(\"Multiplied by 2:\", y)\n",
    "    z = ((i + 7) * 3)**0.5\n",
    "    print(\"Other math:\", z)\n",
    "    print(\"END\")\n",
    "    \n"
   ]
  },
  {
   "cell_type": "markdown",
   "metadata": {},
   "source": [
    "That concludes the basics of `for` loops. We will return to these after logic statements and writing functions. You will likely use loops a lot in your own code, so it is important to understand them. Remember the `:` and the indenting structure\n",
    "\n",
    "### 1.1.2 `while` loops\n",
    "Another type of loop is the `while` loop. Rather than proceeding through a known list of objects, `while` loops continue until some condition is met. Unlike `for` loops, `while` loops add an important concept; infinite loops\n",
    "\n",
    "Infinite loops are bits of code that \"get stuck\" and will keep going forever. While using `while` loops, it is important to look out for infinite loops. \n",
    "\n",
    "Returning to the example of counting to 5, below is a `while` loop to count to 5"
   ]
  },
  {
   "cell_type": "code",
   "execution_count": 10,
   "metadata": {},
   "outputs": [
    {
     "name": "stdout",
     "output_type": "stream",
     "text": [
      "1\n",
      "2\n",
      "3\n",
      "4\n",
      "5\n"
     ]
    }
   ],
   "source": [
    "i = 1\n",
    "\n",
    "while i < 6:\n",
    "    print(i)\n",
    "    i += 1\n",
    "\n"
   ]
  },
  {
   "cell_type": "markdown",
   "metadata": {},
   "source": [
    "Before moving on, let's consider two ways we could have accidentally written an infinite loops. (1) if we did not include `i += 1`, `i` would have remained set as `1` and the loop would have kept repeating forever. (2) if we had instead set the while statement to be `while i > 0:` our loop would always meet that condition, hence repeating forever. Remember to carefully consider whether a loop can actually terminate when writing `while` loops.\n",
    "\n",
    "The above example is not a great use case (`for` loops are easier for counting). `while` loops are most useful when you want a loop to keep going until some criteria is met. As a motivating example, let's say we cant to find all the integers whose square root is less than 3.78. We can do this using a `while` loop. Below is some code to do that"
   ]
  },
  {
   "cell_type": "code",
   "execution_count": 18,
   "metadata": {},
   "outputs": [
    {
     "name": "stdout",
     "output_type": "stream",
     "text": [
      "Current #: 1\n",
      "Square root: 1.0\n",
      "Current #: 2\n",
      "Square root: 1.4142135623730951\n",
      "Current #: 3\n",
      "Square root: 1.7320508075688772\n",
      "Current #: 4\n",
      "Square root: 2.0\n",
      "Current #: 5\n",
      "Square root: 2.23606797749979\n",
      "Current #: 6\n",
      "Square root: 2.449489742783178\n",
      "Current #: 7\n",
      "Square root: 2.6457513110645907\n",
      "Current #: 8\n",
      "Square root: 2.8284271247461903\n",
      "Current #: 9\n",
      "Square root: 3.0\n",
      "Current #: 10\n",
      "Square root: 3.1622776601683795\n",
      "Current #: 11\n",
      "Square root: 3.3166247903554\n",
      "Current #: 12\n",
      "Square root: 3.4641016151377544\n",
      "Current #: 13\n",
      "Square root: 3.605551275463989\n",
      "Current #: 14\n",
      "Square root: 3.7416573867739413\n",
      "Current #: 15\n",
      "Square root: 3.872983346207417\n"
     ]
    }
   ],
   "source": [
    "i = 0\n",
    "j = 0\n",
    "\n",
    "while j < 3.78:\n",
    "    i += 1\n",
    "    print(\"Current #:\", i)\n",
    "    j = i ** 0.5\n",
    "    print(\"Square root:\", j)\n"
   ]
  },
  {
   "cell_type": "markdown",
   "metadata": {},
   "source": [
    "So 14 is the highest integer that does not pass the threshold. \n",
    "\n",
    "### 1.1.4 Nested loops\n",
    "It is also possible to nest loops within each other. In this example, we will use nested `for` loops, but any combination could be used with loops. \n",
    "\n",
    "Below is a loop that looks at the numbers 10, 20, 30 and tries to divide each on by 2, 3, 4, 5"
   ]
  },
  {
   "cell_type": "code",
   "execution_count": 25,
   "metadata": {},
   "outputs": [
    {
     "name": "stdout",
     "output_type": "stream",
     "text": [
      "Current Number: 10\n",
      "Divided by 2: 5.0\n",
      "Divided by 3: 3.3333333333333335\n",
      "Divided by 4: 2.5\n",
      "Divided by 5: 2.0\n",
      "Current Number: 20\n",
      "Divided by 2: 10.0\n",
      "Divided by 3: 6.666666666666667\n",
      "Divided by 4: 5.0\n",
      "Divided by 5: 4.0\n",
      "Current Number: 30\n",
      "Divided by 2: 15.0\n",
      "Divided by 3: 10.0\n",
      "Divided by 4: 7.5\n",
      "Divided by 5: 6.0\n"
     ]
    }
   ],
   "source": [
    "for i in range(10, 31, 10):\n",
    "    print('Current Number:', i)\n",
    "    for j in range(2, 6):\n",
    "        print(\"Divided by \"+str(j)+':', i/j)\n"
   ]
  },
  {
   "cell_type": "markdown",
   "metadata": {},
   "source": [
    "So what is happening? First we check the current number of `i`. Then we divide that `i` by `j`. The `j` value loops through 2, 3, 4, and 5. During the `j` loop, the value of `i` remains constant.\n",
    "\n",
    "### 1.1.4 The `zip()` function\n",
    "Before concluding, I wanted to introduce the `zip()`. In the previous example, `i` was constant across `j` but what if we want both values to update at the same time for each loop? This is where the `zip()` function comes into use. \n",
    "\n",
    "To use the `zip()` function, we put in the items we want to loop over. It is important that the containers within the zip function have the same number of items. Below is an example"
   ]
  },
  {
   "cell_type": "code",
   "execution_count": 26,
   "metadata": {},
   "outputs": [
    {
     "name": "stdout",
     "output_type": "stream",
     "text": [
      "Counting by 1: 1\n",
      "Counting by 2: 2\n",
      "Counting by 1: 2\n",
      "Counting by 2: 4\n",
      "Counting by 1: 3\n",
      "Counting by 2: 6\n",
      "Counting by 1: 4\n",
      "Counting by 2: 8\n",
      "Counting by 1: 5\n",
      "Counting by 2: 10\n"
     ]
    }
   ],
   "source": [
    "for i, j in zip(range(1, 6, 1), range(2, 12, 2)):\n",
    "    print(\"Counting by 1:\", i)\n",
    "    print(\"Counting by 2:\", j)"
   ]
  },
  {
   "cell_type": "markdown",
   "metadata": {},
   "source": [
    "That concludes the basics of loops. We will return to and use loops a lot throughout, so be sure to review this section and understand the syntax. Particularly how the loops can be nested or how loops can be run simultaneously.\n",
    "\n",
    "## 1.2 Logic statements\n",
    "The next section details the use of logic or conditional statements. The syntax structure of `:` and indents works similarly to loops. The difference is the keywords we will use. \n",
    "\n",
    "There are three major keywords for logic statements; `if`, `elif`, and `else`. Every conditional starts with `if` and `if` can be used by itself. \n",
    "\n",
    "### 1.2.1 Single condition\n",
    "Below is a simple example of an `if` statement"
   ]
  },
  {
   "cell_type": "code",
   "execution_count": 27,
   "metadata": {},
   "outputs": [
    {
     "name": "stdout",
     "output_type": "stream",
     "text": [
      "'x' is equal to 5\n"
     ]
    }
   ],
   "source": [
    "x = 5\n",
    "\n",
    "if x == 5:\n",
    "    print(\"'x' is equal to 5\")\n",
    "\n",
    "if x == 10:\n",
    "    print(\"'x' is equal to 10\")\n"
   ]
  },
  {
   "cell_type": "markdown",
   "metadata": {},
   "source": [
    "The `==` is used to assess whether two objects are equal to each other (`=` is used to set an object equal to another object). As we can see the first conditional is met. Since `x == 5` is true, the indented statements below it are ran. For the next `if` conditional, x is not equal to 10 so the indented statements below are not ran. \n",
    "\n",
    "### 1.2.2 Two conditions\n",
    "When used with `else`, the `if` statement can be used to return two different things. Below is another example"
   ]
  },
  {
   "cell_type": "code",
   "execution_count": 28,
   "metadata": {},
   "outputs": [
    {
     "name": "stdout",
     "output_type": "stream",
     "text": [
      "'x' is equal to 5\n"
     ]
    }
   ],
   "source": [
    "if x != 5:  # Seeing whether x is NOT equal to 5\n",
    "    print(\"'x' is not equal to 5\")\n",
    "else:\n",
    "    print(\"'x' is equal to 5\")"
   ]
  },
  {
   "cell_type": "markdown",
   "metadata": {},
   "source": [
    "Since the `if` evaluates to be false (x is equal to 5), the `else` statement is ran instead. \n",
    "\n",
    "### 1.2.3 More than two conditions\n",
    "Finally, we can add in `elif` (stands for 'else if') to allow for more than two options. Below is an example of 3 different conditions"
   ]
  },
  {
   "cell_type": "code",
   "execution_count": 29,
   "metadata": {},
   "outputs": [
    {
     "name": "stdout",
     "output_type": "stream",
     "text": [
      "'x' is divisible by 5\n"
     ]
    }
   ],
   "source": [
    "if x == 7:\n",
    "    print(\"'x' is equal to 7\")\n",
    "elif x % 5 == 0:\n",
    "    print(\"'x' is divisible by 5\")\n",
    "else:\n",
    "    pass"
   ]
  },
  {
   "cell_type": "markdown",
   "metadata": {},
   "source": [
    "**NOTE:** conditional statements should always end with an `else` statement. If you don't want else to do anything, you can use the `pass` keyword, like shown above. \n",
    "\n",
    "Similarly to loops, logic statements can have multiple lines nested underneath\n",
    "\n",
    "Finally, conditions can be stacked together using `and`, `or`, `operators.xor` (for exclusive or). I will shown an example in the next section of this"
   ]
  },
  {
   "cell_type": "markdown",
   "metadata": {},
   "source": [
    "# 1.3 Logical Loops\n",
    "Briefly, I will provide an example of combining loops and logic together. "
   ]
  },
  {
   "cell_type": "code",
   "execution_count": 34,
   "metadata": {},
   "outputs": [
    {
     "name": "stdout",
     "output_type": "stream",
     "text": [
      "Current value: 1\n",
      "Not divisible by 2 or 5\n",
      "Current value: 2\n",
      "'i' is divisible by 2 only\n",
      "Current value: 3\n",
      "Not divisible by 2 or 5\n",
      "Current value: 4\n",
      "'i' is divisible by 2 only\n",
      "Current value: 5\n",
      "'i' is divisible by 5 only\n",
      "Current value: 6\n",
      "'i' is divisible by 2 only\n",
      "Current value: 7\n",
      "Not divisible by 2 or 5\n",
      "Current value: 8\n",
      "'i' is divisible by 2 only\n",
      "Current value: 9\n",
      "Not divisible by 2 or 5\n",
      "Current value: 10\n",
      "'i' is divisible by 2 and 5\n",
      "Current value: 11\n",
      "Not divisible by 2 or 5\n",
      "Current value: 12\n",
      "'i' is divisible by 2 only\n",
      "Current value: 13\n",
      "Not divisible by 2 or 5\n",
      "Current value: 14\n",
      "'i' is divisible by 2 only\n",
      "Current value: 15\n",
      "'i' is divisible by 5 only\n",
      "Current value: 16\n",
      "'i' is divisible by 2 only\n",
      "Current value: 17\n",
      "Not divisible by 2 or 5\n",
      "Current value: 18\n",
      "'i' is divisible by 2 only\n",
      "Current value: 19\n",
      "Not divisible by 2 or 5\n",
      "Current value: 20\n",
      "'i' is divisible by 2 and 5\n"
     ]
    }
   ],
   "source": [
    "for i in range(1, 21):\n",
    "    print('Current value:', i)\n",
    "    x = i % 2\n",
    "    y = i % 5\n",
    "    if x == 0 and y == 0:\n",
    "        print(\"'i' is divisible by 2 and 5\")\n",
    "    \n",
    "    elif x == 0:\n",
    "        print(\"'i' is divisible by 2 only\")\n",
    "    \n",
    "    elif y == 0:\n",
    "        print(\"'i' is divisible by 5 only\")\n",
    "    \n",
    "    else:\n",
    "        print(\"Not divisible by 2 or 5\")\n"
   ]
  },
  {
   "cell_type": "markdown",
   "metadata": {},
   "source": [
    "That concludes the logical loops. We will return to this concept throughout. Be sure to remember how indents work!\n",
    "\n",
    "# 1.4 Error messages\n",
    "Before concluding, I wanted to discuss how to read error messages, since you will inevitably run into them. Being able to read errors and debug code is a useful skill and can save you many hours of staring at code and wondering why it doesn't work (I know from personal experience). The errors tell the line causing problems, some basic error information, and if the code uses other files it traces back the error (we won't encounter this till later).\n",
    "\n",
    "As an example, we will debug the code from the first problem set. I have broken it into pieces"
   ]
  },
  {
   "cell_type": "code",
   "execution_count": 35,
   "metadata": {},
   "outputs": [
    {
     "ename": "SyntaxError",
     "evalue": "invalid syntax (<ipython-input-35-e4d907d7db15>, line 2)",
     "output_type": "error",
     "traceback": [
      "\u001b[1;36m  File \u001b[1;32m\"<ipython-input-35-e4d907d7db15>\"\u001b[1;36m, line \u001b[1;32m2\u001b[0m\n\u001b[1;33m    print('There are problems in this code')\u001b[0m\n\u001b[1;37m        ^\u001b[0m\n\u001b[1;31mSyntaxError\u001b[0m\u001b[1;31m:\u001b[0m invalid syntax\n"
     ]
    }
   ],
   "source": [
    "print('Hello world! It is me, your computer'  # first problem\n",
    "print('There are problems in this code')"
   ]
  },
  {
   "cell_type": "code",
   "execution_count": 36,
   "metadata": {},
   "outputs": [
    {
     "ename": "SyntaxError",
     "evalue": "invalid syntax (<ipython-input-36-e237208db790>, line 1)",
     "output_type": "error",
     "traceback": [
      "\u001b[1;36m  File \u001b[1;32m\"<ipython-input-36-e237208db790>\"\u001b[1;36m, line \u001b[1;32m1\u001b[0m\n\u001b[1;33m    print(I need your help fixing this code)  # second problem\u001b[0m\n\u001b[1;37m               ^\u001b[0m\n\u001b[1;31mSyntaxError\u001b[0m\u001b[1;31m:\u001b[0m invalid syntax\n"
     ]
    }
   ],
   "source": [
    "print(I need your help fixing this code)  # second problem\n",
    "print('Help me answer the following math problem')"
   ]
  },
  {
   "cell_type": "code",
   "execution_count": 38,
   "metadata": {},
   "outputs": [
    {
     "ename": "SyntaxError",
     "evalue": "invalid syntax (<ipython-input-38-7f231df3e416>, line 1)",
     "output_type": "error",
     "traceback": [
      "\u001b[1;36m  File \u001b[1;32m\"<ipython-input-38-7f231df3e416>\"\u001b[1;36m, line \u001b[1;32m1\u001b[0m\n\u001b[1;33m    x = (5 +*+ 7)**2  # third problem\u001b[0m\n\u001b[1;37m            ^\u001b[0m\n\u001b[1;31mSyntaxError\u001b[0m\u001b[1;31m:\u001b[0m invalid syntax\n"
     ]
    }
   ],
   "source": [
    "x = (5 +*+ 7)**2  # third problem\n",
    "print('The answer is', x)\n",
    "print('Thank you for the help!')"
   ]
  },
  {
   "cell_type": "markdown",
   "metadata": {},
   "source": [
    "These examples are all `SyntaxError`. The type of error can be helpful for determining what the problem is. `SyntaxError` are all errors where something is breaking Python's syntax rules. In the first example, since there is no end `)` in the first line, Python is looking for a string on the next line. Since it finds a function instead, it raises the error.\n",
    "\n",
    "The second example print statement doesn't have `\"` around it, so Python assumes each word is an object. Objects are not separated by spaces, so it raises a `SyntaxError`.\n",
    "\n",
    "Lastly, `+*+` is not a valid operator. Since Python doesn't know what that operator is suppose to do, it raises a `SyntaxError`\n",
    "\n",
    "For a different type of error, consider the following code"
   ]
  },
  {
   "cell_type": "code",
   "execution_count": 39,
   "metadata": {},
   "outputs": [
    {
     "ename": "TypeError",
     "evalue": "'tuple' object does not support item assignment",
     "output_type": "error",
     "traceback": [
      "\u001b[1;31m---------------------------------------------------------------------------\u001b[0m",
      "\u001b[1;31mTypeError\u001b[0m                                 Traceback (most recent call last)",
      "\u001b[1;32m<ipython-input-39-9879ce6d91d8>\u001b[0m in \u001b[0;36m<module>\u001b[1;34m()\u001b[0m\n\u001b[0;32m      1\u001b[0m \u001b[0mt\u001b[0m \u001b[1;33m=\u001b[0m \u001b[1;33m(\u001b[0m\u001b[1;36m1\u001b[0m\u001b[1;33m,\u001b[0m \u001b[1;36m2\u001b[0m\u001b[1;33m,\u001b[0m \u001b[1;36m3\u001b[0m\u001b[1;33m)\u001b[0m\u001b[1;33m\u001b[0m\u001b[0m\n\u001b[1;32m----> 2\u001b[1;33m \u001b[0mt\u001b[0m\u001b[1;33m[\u001b[0m\u001b[1;36m1\u001b[0m\u001b[1;33m]\u001b[0m \u001b[1;33m=\u001b[0m \u001b[1;36m5\u001b[0m\u001b[1;33m\u001b[0m\u001b[0m\n\u001b[0m",
      "\u001b[1;31mTypeError\u001b[0m: 'tuple' object does not support item assignment"
     ]
    }
   ],
   "source": [
    "t = (1, 2, 3)\n",
    "t[1] = 5"
   ]
  },
  {
   "cell_type": "markdown",
   "metadata": {},
   "source": [
    "A `TypeError` tells us that some object doesn't support that feature. In our example, we tried changing the value in a tuple (an immutable object). Since immutable objects can't have their values changed, Python raises a `TypeError`.\n",
    "\n",
    "When encountering a new error, it can be helpful to copy the last line and paste it into Google. Often someone has asked a related question on StackOverflow (I still do this all the time when I don't understand an error).\n",
    "\n",
    "Finally, restarting Python is always good as a last effort if you can't figure out the Tracebacks.\n",
    "\n",
    "# 1.5 Practice Problems\n",
    "Complete these practice problems for the next week. In these examples in particular, there are multiple correct ways to code each question. For an extra challenge, you can try coding each using multiple ways.\n",
    "\n",
    "## Question 1\n",
    "What value would the following code return?"
   ]
  },
  {
   "cell_type": "code",
   "execution_count": null,
   "metadata": {},
   "outputs": [],
   "source": [
    "x = 36\n",
    "\n",
    "if x % 5 == 0:\n",
    "    print(\"x is divisible by 5\")\n",
    "elif x % 2 == 0:\n",
    "    print(\"x is divisible by 2 only\")\n",
    "elif x % 2 == 0 and x % 3 == 0:\n",
    "    print(\"x is divisible by 2 and 3\")\n",
    "elif x % 3 == 0:\n",
    "    print(\"x is divisible by 3 only\")\n",
    "else:\n",
    "    print(\"x is NOT divisible by 2, 3, or 5\")\n"
   ]
  },
  {
   "cell_type": "markdown",
   "metadata": {},
   "source": [
    "## Question 2\n",
    "Run the code from question 1. Does it return what you thought it would? How might you change the code to be more accurate?"
   ]
  },
  {
   "cell_type": "markdown",
   "metadata": {},
   "source": [
    "## Question 3\n",
    "Write a loop that counts from 3 to 27 by 3's. "
   ]
  },
  {
   "cell_type": "markdown",
   "metadata": {},
   "source": [
    "## Question 4\n",
    "Write a `for` loop that goes from 1 to 20 and checks whether that number is divisible by 2, 3, or 10. Be sure your loop prints the current number and whether that number is divisible by each number."
   ]
  },
  {
   "cell_type": "markdown",
   "metadata": {},
   "source": [
    "## Question 5\n",
    "Write a `while` loop that finds that the largest integer whose square root is less than 4.57 and that integer must be divisible by 5 (*hint*: use an `if` statement)"
   ]
  }
 ],
 "metadata": {
  "kernelspec": {
   "display_name": "Python 3",
   "language": "python",
   "name": "python3"
  },
  "language_info": {
   "codemirror_mode": {
    "name": "ipython",
    "version": 3
   },
   "file_extension": ".py",
   "mimetype": "text/x-python",
   "name": "python",
   "nbconvert_exporter": "python",
   "pygments_lexer": "ipython3",
   "version": "3.6.3"
  }
 },
 "nbformat": 4,
 "nbformat_minor": 2
}
