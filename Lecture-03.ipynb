{
 "cells": [
  {
   "cell_type": "markdown",
   "metadata": {},
   "source": [
    "# Lecture 03: Libraries and Plots\n",
    "In this lecture we will go over how to install and use libraries from PyPI (the Python package index). We will use a few of these libraries to create some plots. \n",
    "\n",
    "To install libraries/packages, you will need to do so through the Terminal. Open Terminal. The following command should open Python\n",
    "\n",
    "`python`\n",
    "\n",
    "If that works, then libraries can be installed used the following command.\n",
    "\n",
    "`python -m pip install numpy`\n",
    "\n",
    "This command tells the Python library manager (pip) to install the latest version of the package named `numpy`. Packages are often updated. To update an installed library, you can use the following command\n",
    "\n",
    "`python -m pip install numpy --upgrade`\n",
    "\n",
    "After this process, you will be able to use that library. Depending on the package, the documentation of how it works may be available online, or you may have to use the `help()` command. Alternatively, many of these packages are available on GitHub. \n",
    "\n",
    "For this lecture, we will be using the following libraries; `numpy`, `matplotlib`, and `scipy`. \n",
    "\n",
    "## 3.0 Loading libraries\n",
    "To load a library, we use the `import` statement. Below is how we will load the following libraries."
   ]
  },
  {
   "cell_type": "code",
   "execution_count": 1,
   "metadata": {},
   "outputs": [],
   "source": [
    "import scipy \n",
    "import numpy as np\n",
    "import matplotlib.pyplot as plt"
   ]
  },
  {
   "cell_type": "markdown",
   "metadata": {},
   "source": [
    "## 3.1 Other Data Types\n",
    "Previously, we worked with lists, sets, dictionaries, and other data types. To introduce a complication, let's try to take the square root of items in a list "
   ]
  },
  {
   "cell_type": "code",
   "execution_count": 2,
   "metadata": {},
   "outputs": [
    {
     "ename": "TypeError",
     "evalue": "unsupported operand type(s) for ** or pow(): 'list' and 'float'",
     "output_type": "error",
     "traceback": [
      "\u001b[1;31m---------------------------------------------------------------------------\u001b[0m",
      "\u001b[1;31mTypeError\u001b[0m                                 Traceback (most recent call last)",
      "\u001b[1;32m<ipython-input-2-c142ef6ea7bb>\u001b[0m in \u001b[0;36m<module>\u001b[1;34m()\u001b[0m\n\u001b[0;32m      1\u001b[0m \u001b[0mx\u001b[0m \u001b[1;33m=\u001b[0m \u001b[1;33m[\u001b[0m\u001b[1;36m1\u001b[0m\u001b[1;33m,\u001b[0m \u001b[1;36m4\u001b[0m\u001b[1;33m,\u001b[0m \u001b[1;36m9\u001b[0m\u001b[1;33m,\u001b[0m \u001b[1;36m16\u001b[0m\u001b[1;33m]\u001b[0m\u001b[1;33m\u001b[0m\u001b[0m\n\u001b[1;32m----> 2\u001b[1;33m \u001b[0mx\u001b[0m\u001b[1;33m**\u001b[0m\u001b[1;36m0.5\u001b[0m\u001b[1;33m\u001b[0m\u001b[0m\n\u001b[0m",
      "\u001b[1;31mTypeError\u001b[0m: unsupported operand type(s) for ** or pow(): 'list' and 'float'"
     ]
    }
   ],
   "source": [
    "x = [1, 4, 9, 16]\n",
    "x**0.5"
   ]
  },
  {
   "cell_type": "markdown",
   "metadata": {},
   "source": [
    "As you can see, we get an error. We can get around this with a different approach to coding"
   ]
  },
  {
   "cell_type": "code",
   "execution_count": 3,
   "metadata": {},
   "outputs": [
    {
     "data": {
      "text/plain": [
       "[1.0, 2.0, 3.0, 4.0]"
      ]
     },
     "execution_count": 3,
     "metadata": {},
     "output_type": "execute_result"
    }
   ],
   "source": [
    "[i**0.5 for i in x]"
   ]
  },
  {
   "cell_type": "markdown",
   "metadata": {},
   "source": [
    "This uses a for-loop with what is referred to as list comprehension. It is a simpler way to write a for-loop. The above code works but it is (comparatively) slow and hard to scale up to more complicated situations. This is where the NumPy library comes in handy.\n",
    "\n",
    "Rather than using the list approach as shown above, we can use NumPy. Below is an example we will break down"
   ]
  },
  {
   "cell_type": "code",
   "execution_count": 4,
   "metadata": {},
   "outputs": [
    {
     "data": {
      "text/plain": [
       "array([1., 2., 3., 4.])"
      ]
     },
     "execution_count": 4,
     "metadata": {},
     "output_type": "execute_result"
    }
   ],
   "source": [
    "np.asarray(x)**0.5"
   ]
  },
  {
   "cell_type": "markdown",
   "metadata": {},
   "source": [
    "The above code (specifically the `np.asarray()` function) converts our list, `x` into a `numpy.array`. This is a special object type within the NumPy library. The advantage is that is allows us to directly manipulate objects, similar to how we did math operations on integers and floats (it is also super fast). Additionally, NumPy as a ton of specialty functions. Rather than summarize any here, I recommend taking a look at some of the documentation (https://docs.scipy.org/doc/numpy/). Look up the factorial function and give it a try\n",
    "\n",
    "One that I will introduce is `np.linspace()`. This function is similar to range, but it generates numbers between two points with a specified resolution. Below is code that generates 11 evenly spaced points between 0 and 1."
   ]
  },
  {
   "cell_type": "code",
   "execution_count": 6,
   "metadata": {},
   "outputs": [
    {
     "data": {
      "text/plain": [
       "array([0. , 0.1, 0.2, 0.3, 0.4, 0.5, 0.6, 0.7, 0.8, 0.9, 1. ])"
      ]
     },
     "execution_count": 6,
     "metadata": {},
     "output_type": "execute_result"
    }
   ],
   "source": [
    "np.linspace(0, 1, 11)"
   ]
  },
  {
   "cell_type": "markdown",
   "metadata": {},
   "source": [
    "We will build on NumPy's functionality in the next section. NumPy also allows for matrices and various manipulations. \n",
    "\n",
    "## 3.2 Graphics\n",
    "We will briefly introduce the `matplotlib` library, with more details in the upcoming section. This is the library most commonly used to generate graphics. \n",
    "\n",
    "To start, let's look at a simple example"
   ]
  },
  {
   "cell_type": "code",
   "execution_count": 8,
   "metadata": {},
   "outputs": [],
   "source": [
    "%matplotlib inline  \n",
    "# this line does some jupyter magic. It does not work in Python"
   ]
  },
  {
   "cell_type": "code",
   "execution_count": 15,
   "metadata": {},
   "outputs": [
    {
     "data": {
      "image/png": "[encoded data removed]",
      "text/plain": [
       "<Figure size 432x288 with 1 Axes>"
      ]
     },
     "metadata": {},
     "output_type": "display_data"
    }
   ],
   "source": [
    "plt.plot([0, 1], # X-coordinates\n",
    "         [0, 1], # Y-coordinates\n",
    "         'o',    # Shape to plot. See https://matplotlib.org/3.1.1/api/markers_api.html\n",
    "         color='r') # Color. See https://matplotlib.org/3.1.0/gallery/color/named_colors.html\n",
    "plt.show()"
   ]
  },
  {
   "cell_type": "code",
   "execution_count": 16,
   "metadata": {},
   "outputs": [
    {
     "data": {
      "image/png": "[encoded data removed]",
      "text/plain": [
       "<Figure size 432x288 with 1 Axes>"
      ]
     },
     "metadata": {},
     "output_type": "display_data"
    }
   ],
   "source": [
    "plt.plot([0, 1], # X-coordinates\n",
    "         [0, 1], # Y-coordinates\n",
    "         'o-',    # Dots with a line\n",
    "         color='b') # Color. See https://matplotlib.org/3.1.0/gallery/color/named_colors.html\n",
    "plt.show()"
   ]
  },
  {
   "cell_type": "code",
   "execution_count": 17,
   "metadata": {},
   "outputs": [
    {
     "data": {
      "image/png": "[encoded data removed]",
      "text/plain": [
       "<Figure size 432x288 with 1 Axes>"
      ]
     },
     "metadata": {},
     "output_type": "display_data"
    }
   ],
   "source": [
    "plt.plot([0, 1], # X-coordinates\n",
    "         [0, 1], # Y-coordinates\n",
    "         '-',    # Line only\n",
    "         color='g') # Color. See https://matplotlib.org/3.1.0/gallery/color/named_colors.html\n",
    "plt.show()"
   ]
  },
  {
   "cell_type": "markdown",
   "metadata": {},
   "source": [
    "So these are some pretty basic examples. Let's creating something more exciting. As review from last week, we created a function  to solve for a quadratic value. I have copied the function below."
   ]
  },
  {
   "cell_type": "code",
   "execution_count": 18,
   "metadata": {},
   "outputs": [],
   "source": [
    "def quad_solver(a, b, c):\n",
    "    \"\"\"Solves a quadratic equation for where y=0\n",
    "    \"\"\"\n",
    "    d = (b**2) - (4*a*c)\n",
    "    if d < 0:\n",
    "        raise ValueError(\"No Real solutions, so can't plot\")\n",
    "    else:\n",
    "        sol1 = (-b-d**0.5)/(2*a)\n",
    "        sol2 = (-b+d**0.5)/(2*a)\n",
    "        return sol1, sol2"
   ]
  },
  {
   "cell_type": "markdown",
   "metadata": {},
   "source": [
    "However, we can also solve a system like this graphically. We can do this by plugging in values for x and solving for y. I have written a simple function to do this below."
   ]
  },
  {
   "cell_type": "code",
   "execution_count": 31,
   "metadata": {},
   "outputs": [],
   "source": [
    "def quad_y_solver(a, b, c, x_values):\n",
    "    \"\"\"Solves for y for multiple values of x\n",
    "    \n",
    "    ax^2 + bx + c = y\n",
    "    \"\"\"\n",
    "    x_ = np.asarray(x_values)\n",
    "    y_values = a*x_**2 + b*x_ + c\n",
    "    return y_values"
   ]
  },
  {
   "cell_type": "markdown",
   "metadata": {},
   "source": [
    "Now that we have our values, let's display a quadratic equation"
   ]
  },
  {
   "cell_type": "code",
   "execution_count": 32,
   "metadata": {},
   "outputs": [
    {
     "data": {
      "image/png": "[encoded data removed]",
      "text/plain": [
       "<Figure size 432x288 with 1 Axes>"
      ]
     },
     "metadata": {},
     "output_type": "display_data"
    }
   ],
   "source": [
    "a, b, c = 8, -10, 0\n",
    "\n",
    "# Plotting the curve\n",
    "x_vals = np.linspace(0, 2, 100)\n",
    "plt.hlines(0, 2, 0, linestyle='--', color='k')\n",
    "plt.plot(x_vals, \n",
    "         quad_y_solver(a=a, b=b, c=c, x_values=x_vals), \n",
    "         '-', color='b')\n",
    "\n",
    "# Plotting the solutions\n",
    "solutions = quad_solver(a=a, b=b, c=c)\n",
    "plt.plot(solutions, \n",
    "         quad_y_solver(a=a, b=b, c=c, x_values=solutions), \n",
    "         'o', color='r')\n",
    "plt.show()\n"
   ]
  },
  {
   "cell_type": "markdown",
   "metadata": {},
   "source": [
    "As you will see, we can \"stack\" as many plotting statements as we like. We can keep stacking statements until `plt.show()` is specified, which displays our plot\n",
    "\n",
    "Below is an example function that solves our quadratic system and also creates a nice plot for use automatically."
   ]
  },
  {
   "cell_type": "code",
   "execution_count": 58,
   "metadata": {},
   "outputs": [],
   "source": [
    "def fancy_quadratic_solver(a, b, c, padding=1, color_line='b', color_solutions='r'):\n",
    "    \"\"\"Solves a quadratic system of the following form\n",
    "    \n",
    "    ax^2 + bx + c = y\n",
    "    \"\"\"\n",
    "    # Solving for discriminant first\n",
    "    d = (b**2) - (4*a*c)\n",
    "    if d < 0:\n",
    "        raise ValueError(\"No Real solutions, so can't plot\")\n",
    "    else:\n",
    "        solutions = np.asarray([(-b - d**0.5)/(2*a), (-b + d**0.5)/(2*a)])\n",
    "    \n",
    "    # finding minimum and maximum of solutions\n",
    "    min_sol = np.min(solutions)\n",
    "    max_sol = np.max(solutions)\n",
    "\n",
    "    # Creating x-values to plot between\n",
    "    x_values = np.linspace(min_sol - padding, max_sol + padding, 1000)\n",
    "    y_values = a*x_values**2 + b*x_values + c\n",
    "    \n",
    "    # Printing solutions\n",
    "    print(\"Solutions:\", solutions)\n",
    "    \n",
    "    # Plotting solutions and curve\n",
    "    plt.hlines(0, min_sol-padding, max_sol+padding, linestyle='--', color='k')\n",
    "    plt.plot(x_values, y_values, '-', color=color_line)\n",
    "    plt.plot(solutions, a*solutions**2 + b*solutions + c, 'o', color=color_solutions)\n",
    "    \n",
    "    # some fancier plot formatting statments\n",
    "    plt.xlim([min_sol-padding, max_sol+padding])\n",
    "    plt.title(\"Solutions: \"+np.str(solutions))\n",
    "    plt.tight_layout()\n",
    "    plt.show()"
   ]
  },
  {
   "cell_type": "code",
   "execution_count": 59,
   "metadata": {},
   "outputs": [
    {
     "name": "stdout",
     "output_type": "stream",
     "text": [
      "Solutions: [ 1.25 -0.  ]\n"
     ]
    },
    {
     "data": {
      "image/png": "[encoded data removed]",
      "text/plain": [
       "<Figure size 432x288 with 1 Axes>"
      ]
     },
     "metadata": {},
     "output_type": "display_data"
    }
   ],
   "source": [
    "fancy_quadratic_solver(a=-8, b=10, c=0, padding=0.1)"
   ]
  },
  {
   "cell_type": "markdown",
   "metadata": {},
   "source": [
    "Now we have a nice visual display of our results to complement the analytical solutions. To show some of the possibilities, see the below code for a nonlinear system. It displays the graphical stability analysis (you don't need to know what this is, I am only using it as a further example)"
   ]
  },
  {
   "cell_type": "code",
   "execution_count": 61,
   "metadata": {},
   "outputs": [
    {
     "data": {
      "image/png": "[encoded data removed]",
      "text/plain": [
       "<Figure size 432x288 with 1 Axes>"
      ]
     },
     "metadata": {},
     "output_type": "display_data"
    }
   ],
   "source": [
    "# Calculate points for line\n",
    "x = np.linspace(-10, 10, 100)\n",
    "y = np.sin(x)\n",
    "\n",
    "# PLotting main blue line\n",
    "plt.plot(x, y, color='blue', label=None)\n",
    "# Plotting horizontal reference line\n",
    "plt.hlines(0, -11, 11, linestyle=':', label=None)\n",
    "# Plotting arrows and points\n",
    "plt.plot([-1.5*np.pi, 0.5*np.pi, 2.5*np.pi], [0, 0, 0], linestyle='', marker='>', color='r', label=None)\n",
    "plt.plot([-2.5*np.pi, -0.5*np.pi, 1.5*np.pi], [0, 0, 0], linestyle='', marker='<', color='g', label=None)\n",
    "plt.plot([-3*np.pi, -1*np.pi, np.pi, 2*np.pi], [0, 0, 0, 0], linestyle='',\n",
    "         marker='o', color='k', label='Stable')\n",
    "plt.plot([-2*np.pi, 0, 2*np.pi], [0, 0, 0], linestyle='',\n",
    "         marker='o', markerfacecolor='w', markeredgewidth=1.5, markeredgecolor='k', label='Unstable')\n",
    "# Formatting the plot\n",
    "plt.yticks([])\n",
    "plt.ylim([-2.5, 2.5])\n",
    "plt.ylabel(r'$\\dot{x}$')\n",
    "plt.xlim([-11, 11])\n",
    "plt.xticks([-3*np.pi, -2*np.pi, -1*np.pi, 0, np.pi, 2*np.pi, 3*np.pi], \n",
    "           [r'$-3\\pi$', r'$-2\\pi$', r'$-\\pi$', '0', r'$\\pi$', r'$2\\pi$', r'$3\\pi$'])\n",
    "plt.legend()\n",
    "plt.show()"
   ]
  },
  {
   "cell_type": "markdown",
   "metadata": {},
   "source": [
    "For practice, write some code the plot a some function for several values.\n",
    "\n",
    "Below is another example of plotting. This time, we will test how \"fair\" our dice rolling program is"
   ]
  },
  {
   "cell_type": "code",
   "execution_count": 65,
   "metadata": {},
   "outputs": [
    {
     "data": {
      "image/png": "[encoded data removed]",
      "text/plain": [
       "<Figure size 432x288 with 1 Axes>"
      ]
     },
     "metadata": {},
     "output_type": "display_data"
    }
   ],
   "source": [
    "import random\n",
    "sides = [1, 2, 3, 4, 5, 6]\n",
    "dice_roll = []\n",
    "\n",
    "for i in range(25000):\n",
    "    d = random.choice(sides)\n",
    "    dice_roll.append(d)\n",
    "\n",
    "# Counting number of each \"side\" of the die\n",
    "rolls = [dice_roll.count(1),\n",
    "         dice_roll.count(2),\n",
    "         dice_roll.count(3),\n",
    "         dice_roll.count(4),\n",
    "         dice_roll.count(5),\n",
    "         dice_roll.count(6)]\n",
    "\n",
    "# Creating a bar chart\n",
    "plt.bar(sides, rolls, align='center', color='b', alpha=0.5)\n",
    "plt.show()"
   ]
  },
  {
   "cell_type": "markdown",
   "metadata": {},
   "source": [
    "So, it looks like our \"die\" is fair. \n",
    "\n",
    "One more example to close. We will look at a histogram for another random number generator"
   ]
  },
  {
   "cell_type": "code",
   "execution_count": 71,
   "metadata": {},
   "outputs": [
    {
     "data": {
      "image/png": "[encoded data removed]",
      "text/plain": [
       "<Figure size 432x288 with 1 Axes>"
      ]
     },
     "metadata": {},
     "output_type": "display_data"
    }
   ],
   "source": [
    "draws = []\n",
    "\n",
    "for i in range(25000):\n",
    "    n = np.random.normal()\n",
    "    draws.append(n)\n",
    "\n",
    "# Creating histogram\n",
    "plt.hist(draws, color='red', bins=100)\n",
    "plt.show()"
   ]
  },
  {
   "cell_type": "markdown",
   "metadata": {},
   "source": [
    "This concludes the basics of plotting. There are lots of additional complexities that can be added. There is lots of great documentation on the matplotlib website and throughout the internet.\n",
    "\n",
    "To conclude, let's go through the dice rolling example"
   ]
  }
 ],
 "metadata": {
  "kernelspec": {
   "display_name": "Python 3",
   "language": "python",
   "name": "python3"
  },
  "language_info": {
   "codemirror_mode": {
    "name": "ipython",
    "version": 3
   },
   "file_extension": ".py",
   "mimetype": "text/x-python",
   "name": "python",
   "nbconvert_exporter": "python",
   "pygments_lexer": "ipython3",
   "version": "3.6.3"
  }
 },
 "nbformat": 4,
 "nbformat_minor": 2
}
