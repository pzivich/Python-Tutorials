{
 "cells": [
  {
   "cell_type": "markdown",
   "metadata": {},
   "source": [
    "# Lecture 0: Python Basics\n",
    "Python 3.x can be downloaded from https://www.python.org/ When downloading, make sure the `pip` install option is selected and that `python` is added to the environmental variable path. Both of these should be done. You can also allow the install of IDLE, a Python IDE that comes with Python. It is a good starting IDE before selecting another IDE. \n",
    "\n",
    "## 0.1 Print function\n",
    "In this first tutorials, we will outline the basics of Python. To start, we will use the `print` function to display a simple string message in the console. The `print` function is used to display items in the console. It is a helpful function for a variety of purposes that we will continue to return to. Let's look at an example"
   ]
  },
  {
   "cell_type": "code",
   "execution_count": 1,
   "metadata": {},
   "outputs": [
    {
     "name": "stdout",
     "output_type": "stream",
     "text": [
      "Hello world!\n"
     ]
    }
   ],
   "source": [
    "print(\"Hello world!\")"
   ]
  },
  {
   "cell_type": "markdown",
   "metadata": {},
   "source": [
    "As we can see, the print function returned our message to our console. The `print` function wraps the phrase we wanted to print in parentheses. Additionally, our string is contained in quotes. We can also use single quotes"
   ]
  },
  {
   "cell_type": "code",
   "execution_count": 2,
   "metadata": {},
   "outputs": [
    {
     "name": "stdout",
     "output_type": "stream",
     "text": [
      "Hello again\n"
     ]
    }
   ],
   "source": [
    "print('Hello again')"
   ]
  },
  {
   "cell_type": "markdown",
   "metadata": {},
   "source": [
    "## 0.2 Type function\n",
    "The `type` function identifies the object type. This is useful for de-bugging to checking your code. I am demonstrating it here since we will use it to check object types for the remainder of this tutorial. For this, let's check the object type of a string sequence"
   ]
  },
  {
   "cell_type": "code",
   "execution_count": 4,
   "metadata": {},
   "outputs": [
    {
     "name": "stdout",
     "output_type": "stream",
     "text": [
      "<class 'str'>\n"
     ]
    }
   ],
   "source": [
    "print(type('Hello again'))"
   ]
  },
  {
   "cell_type": "markdown",
   "metadata": {},
   "source": [
    "We can see that we have a string object or a `str`. Another important item to note is that we are able to nest our functions. Functions are run from inside-to-out. Wrapping functions like this can help to reduce the number of lines of code. Let's check the type of `print`"
   ]
  },
  {
   "cell_type": "code",
   "execution_count": 6,
   "metadata": {},
   "outputs": [
    {
     "name": "stdout",
     "output_type": "stream",
     "text": [
      "<class 'builtin_function_or_method'>\n"
     ]
    }
   ],
   "source": [
    "print(type(print))"
   ]
  },
  {
   "cell_type": "markdown",
   "metadata": {},
   "source": [
    "We will that `print` is a class object (technically a higher-level version of a function). We also see that it is built in. The `type` function tells us the origin of the function, which will be helpful when we begin to use modules/libraries/packages.\n",
    "\n",
    "## 0.3 Object Types\n",
    "Now that we have those two functions, we can explore some different object types. \n",
    "\n",
    "### 0.3.1 Integers\n",
    "Integers are exactly what they sound like, integers. We will create an object, `x`, and set it equal to `2`"
   ]
  },
  {
   "cell_type": "code",
   "execution_count": 9,
   "metadata": {},
   "outputs": [
    {
     "name": "stdout",
     "output_type": "stream",
     "text": [
      "2\n"
     ]
    }
   ],
   "source": [
    "x = 2\n",
    "print(x)"
   ]
  },
  {
   "cell_type": "markdown",
   "metadata": {},
   "source": [
    "We can also convert other object types to integers via the `int()` function\n",
    "\n",
    "### 0.3.2 Floats\n",
    "Floats are numbers with a decimal place. We will create a new object, `y`, and set it equal to `0.3`"
   ]
  },
  {
   "cell_type": "code",
   "execution_count": 10,
   "metadata": {},
   "outputs": [
    {
     "name": "stdout",
     "output_type": "stream",
     "text": [
      "0.3\n"
     ]
    }
   ],
   "source": [
    "y = 0.3\n",
    "print(y)"
   ]
  },
  {
   "cell_type": "markdown",
   "metadata": {},
   "source": [
    "We can convert other objects to floats via `float()` function\n",
    "\n",
    "### 0.3.3 Boolean\n",
    "Boolean are true and false expressions. We will create a new object, `z`, and set it to equal `True`"
   ]
  },
  {
   "cell_type": "code",
   "execution_count": 11,
   "metadata": {},
   "outputs": [
    {
     "name": "stdout",
     "output_type": "stream",
     "text": [
      "True\n"
     ]
    }
   ],
   "source": [
    "z = True\n",
    "print(z)"
   ]
  },
  {
   "cell_type": "code",
   "execution_count": 12,
   "metadata": {},
   "outputs": [
    {
     "name": "stdout",
     "output_type": "stream",
     "text": [
      "1\n"
     ]
    }
   ],
   "source": [
    "print(int(z))"
   ]
  },
  {
   "cell_type": "markdown",
   "metadata": {},
   "source": [
    "As seen, if we convert `z` to an integer, it becomes `1`. Similarly, `False` is converted to `0` when transformed into an integer. We can also convert other objects to Boolean types via `bool()`.\n",
    "\n",
    "### 0.3.4 Strings\n",
    "We already introduced strings earlier, but we will go over them again in more detail. They are segments of text wrapping in quotations. We will create a bit of text and set the object as `q`"
   ]
  },
  {
   "cell_type": "code",
   "execution_count": 14,
   "metadata": {},
   "outputs": [
    {
     "name": "stdout",
     "output_type": "stream",
     "text": [
      "Some text here\n"
     ]
    }
   ],
   "source": [
    "q = 'Some text here'\n",
    "print(q)"
   ]
  },
  {
   "cell_type": "markdown",
   "metadata": {},
   "source": [
    "We can convert other objects to string types via the `str()` function\n",
    "\n",
    "These are the four basic object types that make up Python. Most every other bit of code is some bit of complexity bit on these basics. In the next section, we will outline different basic container objects\n",
    "\n",
    "## 0.4 Containers\n",
    "Containers are a more complex object type. As their name implies, they store other objects as part of them. For example, some container may be made up of a sequence of numbers. It should be noted, that most of these objects can contain mixed object types (some floats, some ints, and some strings). Each container type has some different restrictions/uses on what can be contained within it. We will detail each of these differences\n",
    "\n",
    "### 0.4.1 Lists\n",
    "Lists are a basic container. They hold a sequence of items. These items do not need to be unique (there can be copies of items in the list). We will create a list of mixed objects"
   ]
  },
  {
   "cell_type": "code",
   "execution_count": 20,
   "metadata": {},
   "outputs": [
    {
     "name": "stdout",
     "output_type": "stream",
     "text": [
      "['first', 1, 2, 2, 3, 4, 5, 6, 'last']\n",
      "<class 'list'>\n"
     ]
    }
   ],
   "source": [
    "l = ['first', 1, 2, 2, 3, 4, 5, 6, 'last']\n",
    "print(l)\n",
    "print(type(l))"
   ]
  },
  {
   "cell_type": "markdown",
   "metadata": {},
   "source": [
    "Lists are recognized by using the square brackets. This tells Python you want to create a list object. We can also convert other container objects to lists by using the `list()` function. \n",
    "\n",
    "Now that we have our list, we might want to extract certain items from our object. To do this, we use indexing. To index our list, we use code like the following `l[...]` where the `...` corresponds to item's index that we want out. Let's try to extract the first object in our list"
   ]
  },
  {
   "cell_type": "code",
   "execution_count": 18,
   "metadata": {},
   "outputs": [
    {
     "name": "stdout",
     "output_type": "stream",
     "text": [
      "1\n"
     ]
    }
   ],
   "source": [
    "print(l[1])"
   ]
  },
  {
   "cell_type": "markdown",
   "metadata": {},
   "source": [
    "Uh-oh! That's not right. It looks like we got the second object in the list. This is because Python uses `0` indexing, such that the first item is at the `0` place. Zero-indexing has some handy features that we will get to in a bit. However, let's try to get our first item again"
   ]
  },
  {
   "cell_type": "code",
   "execution_count": 19,
   "metadata": {},
   "outputs": [
    {
     "name": "stdout",
     "output_type": "stream",
     "text": [
      "first\n"
     ]
    }
   ],
   "source": [
    "print(l[0])"
   ]
  },
  {
   "cell_type": "markdown",
   "metadata": {},
   "source": [
    "Now we have the first object. So, remember Python uses zero-indexing (it is also why I am using zero-indexing for the lectures). \n",
    "\n",
    "I mentioned zero-indexing has some nice features. This is one of them. Let's say we want the last item in our list. We can count the number of items in our list, then use that number to index our list. However, we can also use `-1` to get the last item in our list! Below is code showing that the two are equivalent"
   ]
  },
  {
   "cell_type": "code",
   "execution_count": 21,
   "metadata": {},
   "outputs": [
    {
     "name": "stdout",
     "output_type": "stream",
     "text": [
      "last\n",
      "last\n"
     ]
    }
   ],
   "source": [
    "print(l[8])\n",
    "print(l[-1])"
   ]
  },
  {
   "cell_type": "markdown",
   "metadata": {},
   "source": [
    "We can also use other negative numbers to index our list, such as `-2` corresponds  to the second last item in our list. Keep this in mind as an alternative option to extracting items from lists\n",
    "\n",
    "Maybe we want to extract multiple items at once from our list. We can do this by `l[x:y]`, where `x` and `y` corresponds to the indices we want to extract. The colon tells Python we want the items between those numbers.*Note:* the items extract are not inclusive for `y`. If we also want `y`, we need to index an additional place in our list. We will print the first 3 items in our list as an example"
   ]
  },
  {
   "cell_type": "code",
   "execution_count": 23,
   "metadata": {},
   "outputs": [
    {
     "name": "stdout",
     "output_type": "stream",
     "text": [
      "['first', 1, 2]\n"
     ]
    }
   ],
   "source": [
    "print(l[0:3])"
   ]
  },
  {
   "cell_type": "markdown",
   "metadata": {},
   "source": [
    "As you can see, we only get objects correspond to the zero, one, and two indices. The third index is not included\n",
    "\n",
    "Lastly, lists are mutable. Mutable means that we can change them after the object is created. For example, we will change the second item in our list to be `'second'` instead of `1`"
   ]
  },
  {
   "cell_type": "code",
   "execution_count": 24,
   "metadata": {},
   "outputs": [
    {
     "name": "stdout",
     "output_type": "stream",
     "text": [
      "['first', 'second', 2, 2, 3, 4, 5, 6, 'last']\n"
     ]
    }
   ],
   "source": [
    "l[1] = 'second'\n",
    "print(l)"
   ]
  },
  {
   "cell_type": "markdown",
   "metadata": {},
   "source": [
    "This change is permanent (unless you rerun the previous code), so be careful when working with lists if you don't want them to change. \n",
    "\n",
    "To add a new item to the end our list, we can use the `append()` function. It works like the following"
   ]
  },
  {
   "cell_type": "code",
   "execution_count": 25,
   "metadata": {},
   "outputs": [
    {
     "name": "stdout",
     "output_type": "stream",
     "text": [
      "['first', 'second', 2, 2, 3, 4, 5, 6, 'last', 'post-script']\n"
     ]
    }
   ],
   "source": [
    "l.append('post-script')\n",
    "print(l)"
   ]
  },
  {
   "cell_type": "markdown",
   "metadata": {},
   "source": [
    "Append is a built in function of the list class (a higher-level type of function). The command works like the following, to the list object `l`, we use a period to indicate that its `append()` function should be used. The `append()` function adds what is contained in it to the end of the current list `l`. This concludes the basics of lists\n",
    "\n",
    "### 0.4.2 Sets\n",
    "Sets are a variation of lists. They are different from lists in that they only contain unique items. They remove non-unique objects. To create a set object, you use `{}`. Below is an example"
   ]
  },
  {
   "cell_type": "code",
   "execution_count": 31,
   "metadata": {},
   "outputs": [
    {
     "name": "stdout",
     "output_type": "stream",
     "text": [
      "{1, 2, 3}\n",
      "<class 'set'>\n"
     ]
    }
   ],
   "source": [
    "s = {1, 2, 3, 3}\n",
    "print(s)\n",
    "print(type(s))"
   ]
  },
  {
   "cell_type": "markdown",
   "metadata": {},
   "source": [
    "As seen, only a single instance of `3` is included in the set. Sets are useful to check how many unique items are in a list. Let's use sets to check how many unique items are in our previous list"
   ]
  },
  {
   "cell_type": "code",
   "execution_count": 30,
   "metadata": {},
   "outputs": [
    {
     "name": "stdout",
     "output_type": "stream",
     "text": [
      "9\n"
     ]
    }
   ],
   "source": [
    "print(len(set(l)))"
   ]
  },
  {
   "cell_type": "markdown",
   "metadata": {},
   "source": [
    "Before looking at our answer, let's talk through the code. We used wrapped functions again. First the most inner function converts our list `l` to a set. The next function `len` is a new one. It returns the number of items contained in an object. Lastly, `print` displays the value returned by length\n",
    "\n",
    "So, there are nine unique items in our list. Is this the same as if we counted by hand?\n",
    "\n",
    "### 0.4.3 Tuples\n",
    "Tuples are another variation on lists. Tuples allow for non-unique items (unlike sets). They differ from lists in that they are immutable, meaning they cannot change. Once an index value is set, it remains that value. An error is raised if it is changed\n",
    "\n",
    "Below is an example"
   ]
  },
  {
   "cell_type": "code",
   "execution_count": 32,
   "metadata": {},
   "outputs": [
    {
     "name": "stdout",
     "output_type": "stream",
     "text": [
      "(1, 2, 4, 4, 5)\n",
      "<class 'tuple'>\n"
     ]
    }
   ],
   "source": [
    "t = (1, 2, 4, 4, 5)\n",
    "print(t)\n",
    "print(type(t))"
   ]
  },
  {
   "cell_type": "markdown",
   "metadata": {},
   "source": [
    "To show that we can't edit existing indices in a `tuple`, let's try to do it. Looking at our tuple, we made a mistake in the second (zero-indexed) spot. It should be a `3`. Let's try to fix it"
   ]
  },
  {
   "cell_type": "code",
   "execution_count": 33,
   "metadata": {},
   "outputs": [
    {
     "ename": "TypeError",
     "evalue": "'tuple' object does not support item assignment",
     "output_type": "error",
     "traceback": [
      "\u001b[1;31m---------------------------------------------------------------------------\u001b[0m",
      "\u001b[1;31mTypeError\u001b[0m                                 Traceback (most recent call last)",
      "\u001b[1;32m<ipython-input-33-8f568a337ae0>\u001b[0m in \u001b[0;36m<module>\u001b[1;34m()\u001b[0m\n\u001b[1;32m----> 1\u001b[1;33m \u001b[0mt\u001b[0m\u001b[1;33m[\u001b[0m\u001b[1;36m2\u001b[0m\u001b[1;33m]\u001b[0m \u001b[1;33m=\u001b[0m \u001b[1;36m3\u001b[0m\u001b[1;33m\u001b[0m\u001b[0m\n\u001b[0m",
      "\u001b[1;31mTypeError\u001b[0m: 'tuple' object does not support item assignment"
     ]
    }
   ],
   "source": [
    "t[2] = 3"
   ]
  },
  {
   "cell_type": "markdown",
   "metadata": {},
   "source": [
    "We get a `TypeError` telling us we can't do that. To fix our tuple, we would need to change the code in the creation of our tuple. However, we can still add items to our tuple. Below is code to do that"
   ]
  },
  {
   "cell_type": "code",
   "execution_count": 34,
   "metadata": {},
   "outputs": [
    {
     "name": "stdout",
     "output_type": "stream",
     "text": [
      "(1, 2, 4, 4, 5, 6)\n"
     ]
    }
   ],
   "source": [
    "t += (6, )\n",
    "print(t)"
   ]
  },
  {
   "cell_type": "markdown",
   "metadata": {},
   "source": [
    "Essentially, this line of code as to add the tuple `(6, )` to the end of the original tuple `t` and keep the original name of `t`. We will go into more detail on this in the operations section\n",
    "\n",
    "### 0.4.4 Dictionaries\n",
    "The last basic object type we will go over is dictionaries. These differ from the previous examples. Similar to what you imagine when you here dictionary, a dictionary contains linked pairs of objects, `keys` and `values`. Rather than indexing by a number, the `keys` correspond to the index for `values`. These are useful objects for pairing items together. Below is an example linking some integers to words"
   ]
  },
  {
   "cell_type": "code",
   "execution_count": 39,
   "metadata": {},
   "outputs": [
    {
     "name": "stdout",
     "output_type": "stream",
     "text": [
      "{45: 'fourty-five', 10: 'ten', 78: 'seventy-eigt'}\n",
      "<class 'dict'>\n"
     ]
    }
   ],
   "source": [
    "d = {45: 'fourty-five',\n",
    "     10: 'ten',\n",
    "     78: 'seventy-eigt'}\n",
    "print(d)\n",
    "print(type(d))"
   ]
  },
  {
   "cell_type": "markdown",
   "metadata": {},
   "source": [
    "To get the `values` from a dictionary, we use the `keys` created. The keys are to the left side of the colon, while values are to the right. "
   ]
  },
  {
   "cell_type": "code",
   "execution_count": 38,
   "metadata": {},
   "outputs": [
    {
     "name": "stdout",
     "output_type": "stream",
     "text": [
      "ten\n"
     ]
    }
   ],
   "source": [
    "print(d[10])"
   ]
  },
  {
   "cell_type": "markdown",
   "metadata": {},
   "source": [
    "We can also add new `keys` and `values` to our dictionary"
   ]
  },
  {
   "cell_type": "code",
   "execution_count": 40,
   "metadata": {},
   "outputs": [
    {
     "name": "stdout",
     "output_type": "stream",
     "text": [
      "{45: 'fourty-five', 10: 'ten', 78: 'seventy-eigt', 12: 'twelve', 91: 'ninty-one'}\n"
     ]
    }
   ],
   "source": [
    "d[12] = 'twelve'\n",
    "d[91] = 'ninty-one'\n",
    "print(d)"
   ]
  },
  {
   "cell_type": "markdown",
   "metadata": {},
   "source": [
    "Whoops! We misspelled seventy-eight. Dictionaries are mutable, so we can fix that"
   ]
  },
  {
   "cell_type": "code",
   "execution_count": 41,
   "metadata": {},
   "outputs": [
    {
     "name": "stdout",
     "output_type": "stream",
     "text": [
      "{45: 'fourty-five', 10: 'ten', 78: 'seventy-eight', 12: 'twelve', 91: 'ninty-one'}\n"
     ]
    }
   ],
   "source": [
    "d[78] = 'seventy-eight'\n",
    "print(d)"
   ]
  },
  {
   "cell_type": "markdown",
   "metadata": {},
   "source": [
    "We can also view all of the `keys` or `values` separately"
   ]
  },
  {
   "cell_type": "code",
   "execution_count": 54,
   "metadata": {},
   "outputs": [
    {
     "name": "stdout",
     "output_type": "stream",
     "text": [
      "dict_keys([45, 10, 78, 12, 91])\n",
      "dict_values(['fourty-five', 'ten', 'seventy-eight', 'twelve', 'ninty-one'])\n"
     ]
    }
   ],
   "source": [
    "print(d.keys())\n",
    "print(d.values())"
   ]
  },
  {
   "cell_type": "markdown",
   "metadata": {},
   "source": [
    "This concludes the basic container objects. Remember that each has slightly different features, making each more useful in some scenarios than others. In most of my work, I use lists\n",
    "\n",
    "## 0.5 Operations\n",
    "Finally, we will go through some basic math operations. These are the default operations readily available in Python\n",
    "\n",
    "### 0.5.1 Addition"
   ]
  },
  {
   "cell_type": "code",
   "execution_count": 42,
   "metadata": {},
   "outputs": [
    {
     "name": "stdout",
     "output_type": "stream",
     "text": [
      "17.5\n"
     ]
    }
   ],
   "source": [
    "print(5 + 12.5)"
   ]
  },
  {
   "cell_type": "markdown",
   "metadata": {},
   "source": [
    "### 0.5.2 Subtraction"
   ]
  },
  {
   "cell_type": "code",
   "execution_count": 43,
   "metadata": {},
   "outputs": [
    {
     "name": "stdout",
     "output_type": "stream",
     "text": [
      "56.3\n"
     ]
    }
   ],
   "source": [
    "print(62.3 - 6)"
   ]
  },
  {
   "cell_type": "markdown",
   "metadata": {},
   "source": [
    "### 0.5.3 Multiplication"
   ]
  },
  {
   "cell_type": "code",
   "execution_count": 44,
   "metadata": {},
   "outputs": [
    {
     "name": "stdout",
     "output_type": "stream",
     "text": [
      "25\n"
     ]
    }
   ],
   "source": [
    "print(5 * 5)"
   ]
  },
  {
   "cell_type": "markdown",
   "metadata": {},
   "source": [
    "### 0.5.4 Division"
   ]
  },
  {
   "cell_type": "code",
   "execution_count": 45,
   "metadata": {},
   "outputs": [
    {
     "name": "stdout",
     "output_type": "stream",
     "text": [
      "10.0\n"
     ]
    }
   ],
   "source": [
    "print(100 / 10)"
   ]
  },
  {
   "cell_type": "markdown",
   "metadata": {},
   "source": [
    "### 0.5.5 Exponents"
   ]
  },
  {
   "cell_type": "code",
   "execution_count": 46,
   "metadata": {},
   "outputs": [
    {
     "name": "stdout",
     "output_type": "stream",
     "text": [
      "25\n"
     ]
    }
   ],
   "source": [
    "print(5**2)"
   ]
  },
  {
   "cell_type": "markdown",
   "metadata": {},
   "source": [
    "### 0.5.6 Special Divisions"
   ]
  },
  {
   "cell_type": "code",
   "execution_count": 50,
   "metadata": {},
   "outputs": [
    {
     "name": "stdout",
     "output_type": "stream",
     "text": [
      "4.0\n",
      "0.5\n"
     ]
    }
   ],
   "source": [
    "print(12.5 // 3)\n",
    "print(12.5 % 3)"
   ]
  },
  {
   "cell_type": "markdown",
   "metadata": {},
   "source": [
    "The `//` returns only the integer from the division and `%` only returns the remainder. These are less used but can be useful tools for some sections of code.\n",
    "\n",
    "## 0.6 Comments\n",
    "To round out the discussion, you can also comment parts of your code. Commenting your code well is as important (if not more important) than writing the actual code. You will forget what specific lines are meant to do. Rather than spending time re-reading your entire code, well commented code would tell you what each step does. Going forward, all code will be comments (and practice problem code should have comments describing each step in some short detail). \n",
    "\n",
    "Lines that are commented are no run. To do this, sections of code to be commented out should begin with `#`. The commented code ends where the line ends"
   ]
  },
  {
   "cell_type": "code",
   "execution_count": 36,
   "metadata": {},
   "outputs": [
    {
     "name": "stdout",
     "output_type": "stream",
     "text": [
      "Hello, I am not a comment\n"
     ]
    }
   ],
   "source": [
    "# this is a comment. Python will not execute these lines\n",
    "print(\"Hello, I am not a comment\")\n",
    "# print(\"Hello, I am a comment\")"
   ]
  },
  {
   "cell_type": "markdown",
   "metadata": {},
   "source": [
    "This concludes the basics of Python. \n",
    "\n",
    "## 0.7 Practice Problems\n",
    "Complete these practice problems for the next week\n",
    "\n",
    "### Question 1\n",
    "#### Part A\n",
    "What would the following code return?"
   ]
  },
  {
   "cell_type": "code",
   "execution_count": null,
   "metadata": {},
   "outputs": [],
   "source": [
    "print(bool(3))"
   ]
  },
  {
   "cell_type": "markdown",
   "metadata": {},
   "source": [
    "#### Part B\n",
    "Try running the above code. Does it return what you expected? Now re-run the code with `-3` instead. Does this return what you expect?"
   ]
  },
  {
   "cell_type": "markdown",
   "metadata": {},
   "source": [
    "### Question 2\n",
    "What is the difference between a mutable and an immutable object?\n",
    "\n",
    "### Question 3\n",
    "Solve the following math problem with Python. Be sure to write it in one line of code (don't forget order of operations)\n",
    "\n",
    "Add five and six, multiply by twenty, subtract forty-five, divide by twenty-five, and finally multiply that value by itself (take to the second power)\n",
    "\n",
    "### Question 4\n",
    "Correct the misspellings in the following list by using indexing"
   ]
  },
  {
   "cell_type": "code",
   "execution_count": null,
   "metadata": {},
   "outputs": [],
   "source": [
    "l = ['frist', 'second', 'third', 'fourht', 'fivth', 'xisth']"
   ]
  },
  {
   "cell_type": "markdown",
   "metadata": {},
   "source": [
    "### Question 5\n",
    "What is an alternative way you could have indexed Question 4 to fix misspellings?\n",
    "\n",
    "### Question 6\n",
    "Add the missing operations from Section 0.5 to the following dictionary. Do this by creating new keys and values, rather than editing the dictionary object itself"
   ]
  },
  {
   "cell_type": "code",
   "execution_count": null,
   "metadata": {},
   "outputs": [],
   "source": [
    "d = {'addition': '+', \n",
    "     'subtraction': '-',\n",
    "     'division': '/',\n",
    "     'modulo': '%'}"
   ]
  },
  {
   "cell_type": "markdown",
   "metadata": {},
   "source": [
    "### Challenge Question\n",
    "In the previous examples, we only indexed to a single level. However, we can make a list of lists and index them by using code like `l[...][...]` where the first bracket corresponds to the first list and the second corresponds to the list selected. \n",
    "\n",
    "Using this knowledge and other examples of indexing, display the the fourth row along with the second to the last items (i.e. should print [8, 12, 16])"
   ]
  },
  {
   "cell_type": "code",
   "execution_count": null,
   "metadata": {},
   "outputs": [],
   "source": [
    "l = [[1],\n",
    "     [2, 4], \n",
    "     [3, 9, 12], \n",
    "     [4, 8, 12, 16],\n",
    "     [5, 10, 15, 20 ,25],\n",
    "     [6, 12, 18, 24, 30, 36]\n",
    "    ]"
   ]
  }
 ],
 "metadata": {
  "kernelspec": {
   "display_name": "Python 3",
   "language": "python",
   "name": "python3"
  },
  "language_info": {
   "codemirror_mode": {
    "name": "ipython",
    "version": 3
   },
   "file_extension": ".py",
   "mimetype": "text/x-python",
   "name": "python",
   "nbconvert_exporter": "python",
   "pygments_lexer": "ipython3",
   "version": "3.6.3"
  }
 },
 "nbformat": 4,
 "nbformat_minor": 2
}
